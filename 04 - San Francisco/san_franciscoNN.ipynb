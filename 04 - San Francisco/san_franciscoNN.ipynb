{
 "cells": [
  {
   "cell_type": "code",
   "execution_count": 10,
   "source": [
    "import pandas as pd\n",
    "data = pd.read_csv(\"sanfrancisco.csv\")[[\"X\",\"Y\",\"Dates\",\"Category\"]]\n",
    "data = data[data[\"Category\"].isin([\"LARCENY/THEFT\",\"ASSAULT\",\"DRUG/NARCOTIC\",\"VANDALISM\",\"PROSTITUTION\",\"KIDNAPPING\"])]"
   ],
   "outputs": [],
   "metadata": {}
  },
  {
   "cell_type": "code",
   "execution_count": 11,
   "source": [
    "data.groupby(\"Category\").count()"
   ],
   "outputs": [
    {
     "output_type": "execute_result",
     "data": {
      "text/html": [
       "<div>\n",
       "<style scoped>\n",
       "    .dataframe tbody tr th:only-of-type {\n",
       "        vertical-align: middle;\n",
       "    }\n",
       "\n",
       "    .dataframe tbody tr th {\n",
       "        vertical-align: top;\n",
       "    }\n",
       "\n",
       "    .dataframe thead th {\n",
       "        text-align: right;\n",
       "    }\n",
       "</style>\n",
       "<table border=\"1\" class=\"dataframe\">\n",
       "  <thead>\n",
       "    <tr style=\"text-align: right;\">\n",
       "      <th></th>\n",
       "      <th>X</th>\n",
       "      <th>Y</th>\n",
       "      <th>Dates</th>\n",
       "    </tr>\n",
       "    <tr>\n",
       "      <th>Category</th>\n",
       "      <th></th>\n",
       "      <th></th>\n",
       "      <th></th>\n",
       "    </tr>\n",
       "  </thead>\n",
       "  <tbody>\n",
       "    <tr>\n",
       "      <th>ASSAULT</th>\n",
       "      <td>76876</td>\n",
       "      <td>76876</td>\n",
       "      <td>76876</td>\n",
       "    </tr>\n",
       "    <tr>\n",
       "      <th>DRUG/NARCOTIC</th>\n",
       "      <td>53971</td>\n",
       "      <td>53971</td>\n",
       "      <td>53971</td>\n",
       "    </tr>\n",
       "    <tr>\n",
       "      <th>KIDNAPPING</th>\n",
       "      <td>2341</td>\n",
       "      <td>2341</td>\n",
       "      <td>2341</td>\n",
       "    </tr>\n",
       "    <tr>\n",
       "      <th>LARCENY/THEFT</th>\n",
       "      <td>174900</td>\n",
       "      <td>174900</td>\n",
       "      <td>174900</td>\n",
       "    </tr>\n",
       "    <tr>\n",
       "      <th>PROSTITUTION</th>\n",
       "      <td>7484</td>\n",
       "      <td>7484</td>\n",
       "      <td>7484</td>\n",
       "    </tr>\n",
       "    <tr>\n",
       "      <th>VANDALISM</th>\n",
       "      <td>44725</td>\n",
       "      <td>44725</td>\n",
       "      <td>44725</td>\n",
       "    </tr>\n",
       "  </tbody>\n",
       "</table>\n",
       "</div>"
      ],
      "text/plain": [
       "                    X       Y   Dates\n",
       "Category                             \n",
       "ASSAULT         76876   76876   76876\n",
       "DRUG/NARCOTIC   53971   53971   53971\n",
       "KIDNAPPING       2341    2341    2341\n",
       "LARCENY/THEFT  174900  174900  174900\n",
       "PROSTITUTION     7484    7484    7484\n",
       "VANDALISM       44725   44725   44725"
      ]
     },
     "metadata": {},
     "execution_count": 11
    }
   ],
   "metadata": {}
  },
  {
   "cell_type": "code",
   "execution_count": 12,
   "source": [
    "data.shape"
   ],
   "outputs": [
    {
     "output_type": "execute_result",
     "data": {
      "text/plain": [
       "(360297, 4)"
      ]
     },
     "metadata": {},
     "execution_count": 12
    }
   ],
   "metadata": {}
  },
  {
   "cell_type": "code",
   "execution_count": 13,
   "source": [
    "174900/360297"
   ],
   "outputs": [
    {
     "output_type": "execute_result",
     "data": {
      "text/plain": [
       "0.4854328512310677"
      ]
     },
     "metadata": {},
     "execution_count": 13
    }
   ],
   "metadata": {}
  },
  {
   "cell_type": "code",
   "execution_count": 14,
   "source": [
    "from datetime import datetime\n",
    "def conversor(x):\n",
    "    a = datetime.strptime(x,'%Y-%m-%d %H:%M:%S')\n",
    "    return a\n",
    "def timestamp(x):\n",
    "    return conversor(x).timestamp()"
   ],
   "outputs": [],
   "metadata": {}
  },
  {
   "cell_type": "code",
   "execution_count": 15,
   "source": [
    "data[\"Dates\"] = data[\"Dates\"].apply(timestamp)"
   ],
   "outputs": [],
   "metadata": {}
  },
  {
   "cell_type": "code",
   "execution_count": 16,
   "source": [
    "display(data.head())"
   ],
   "outputs": [
    {
     "output_type": "display_data",
     "data": {
      "text/html": [
       "<div>\n",
       "<style scoped>\n",
       "    .dataframe tbody tr th:only-of-type {\n",
       "        vertical-align: middle;\n",
       "    }\n",
       "\n",
       "    .dataframe tbody tr th {\n",
       "        vertical-align: top;\n",
       "    }\n",
       "\n",
       "    .dataframe thead th {\n",
       "        text-align: right;\n",
       "    }\n",
       "</style>\n",
       "<table border=\"1\" class=\"dataframe\">\n",
       "  <thead>\n",
       "    <tr style=\"text-align: right;\">\n",
       "      <th></th>\n",
       "      <th>X</th>\n",
       "      <th>Y</th>\n",
       "      <th>Dates</th>\n",
       "      <th>Category</th>\n",
       "    </tr>\n",
       "  </thead>\n",
       "  <tbody>\n",
       "    <tr>\n",
       "      <th>3</th>\n",
       "      <td>-122.426995</td>\n",
       "      <td>37.800873</td>\n",
       "      <td>1.431571e+09</td>\n",
       "      <td>LARCENY/THEFT</td>\n",
       "    </tr>\n",
       "    <tr>\n",
       "      <th>4</th>\n",
       "      <td>-122.438738</td>\n",
       "      <td>37.771541</td>\n",
       "      <td>1.431571e+09</td>\n",
       "      <td>LARCENY/THEFT</td>\n",
       "    </tr>\n",
       "    <tr>\n",
       "      <th>5</th>\n",
       "      <td>-122.403252</td>\n",
       "      <td>37.713431</td>\n",
       "      <td>1.431571e+09</td>\n",
       "      <td>LARCENY/THEFT</td>\n",
       "    </tr>\n",
       "    <tr>\n",
       "      <th>8</th>\n",
       "      <td>-122.508194</td>\n",
       "      <td>37.776601</td>\n",
       "      <td>1.431569e+09</td>\n",
       "      <td>LARCENY/THEFT</td>\n",
       "    </tr>\n",
       "    <tr>\n",
       "      <th>9</th>\n",
       "      <td>-122.419088</td>\n",
       "      <td>37.807802</td>\n",
       "      <td>1.431569e+09</td>\n",
       "      <td>LARCENY/THEFT</td>\n",
       "    </tr>\n",
       "  </tbody>\n",
       "</table>\n",
       "</div>"
      ],
      "text/plain": [
       "            X          Y         Dates       Category\n",
       "3 -122.426995  37.800873  1.431571e+09  LARCENY/THEFT\n",
       "4 -122.438738  37.771541  1.431571e+09  LARCENY/THEFT\n",
       "5 -122.403252  37.713431  1.431571e+09  LARCENY/THEFT\n",
       "8 -122.508194  37.776601  1.431569e+09  LARCENY/THEFT\n",
       "9 -122.419088  37.807802  1.431569e+09  LARCENY/THEFT"
      ]
     },
     "metadata": {}
    }
   ],
   "metadata": {}
  },
  {
   "cell_type": "code",
   "execution_count": 17,
   "source": [
    "crimenes = [\"LARCENY/THEFT\",\"ASSAULT\",\"DRUG/NARCOTIC\",\"VANDALISM\",\"PROSTITUTION\",\"KIDNAPPING\"]"
   ],
   "outputs": [],
   "metadata": {}
  },
  {
   "cell_type": "code",
   "execution_count": 18,
   "source": [
    "def crimenes_a_num(x):\n",
    "    global crimenes\n",
    "    return crimenes.index(x)\n",
    "def num_a_crimen(x):\n",
    "    global crimenes\n",
    "    return crimenes[x]"
   ],
   "outputs": [],
   "metadata": {}
  },
  {
   "cell_type": "code",
   "execution_count": 19,
   "source": [
    "data[\"Category\"] = data[\"Category\"].apply(crimenes_a_num)"
   ],
   "outputs": [],
   "metadata": {}
  },
  {
   "cell_type": "code",
   "execution_count": 20,
   "source": [
    "display(data.head())"
   ],
   "outputs": [
    {
     "output_type": "display_data",
     "data": {
      "text/html": [
       "<div>\n",
       "<style scoped>\n",
       "    .dataframe tbody tr th:only-of-type {\n",
       "        vertical-align: middle;\n",
       "    }\n",
       "\n",
       "    .dataframe tbody tr th {\n",
       "        vertical-align: top;\n",
       "    }\n",
       "\n",
       "    .dataframe thead th {\n",
       "        text-align: right;\n",
       "    }\n",
       "</style>\n",
       "<table border=\"1\" class=\"dataframe\">\n",
       "  <thead>\n",
       "    <tr style=\"text-align: right;\">\n",
       "      <th></th>\n",
       "      <th>X</th>\n",
       "      <th>Y</th>\n",
       "      <th>Dates</th>\n",
       "      <th>Category</th>\n",
       "    </tr>\n",
       "  </thead>\n",
       "  <tbody>\n",
       "    <tr>\n",
       "      <th>3</th>\n",
       "      <td>-122.426995</td>\n",
       "      <td>37.800873</td>\n",
       "      <td>1.431571e+09</td>\n",
       "      <td>0</td>\n",
       "    </tr>\n",
       "    <tr>\n",
       "      <th>4</th>\n",
       "      <td>-122.438738</td>\n",
       "      <td>37.771541</td>\n",
       "      <td>1.431571e+09</td>\n",
       "      <td>0</td>\n",
       "    </tr>\n",
       "    <tr>\n",
       "      <th>5</th>\n",
       "      <td>-122.403252</td>\n",
       "      <td>37.713431</td>\n",
       "      <td>1.431571e+09</td>\n",
       "      <td>0</td>\n",
       "    </tr>\n",
       "    <tr>\n",
       "      <th>8</th>\n",
       "      <td>-122.508194</td>\n",
       "      <td>37.776601</td>\n",
       "      <td>1.431569e+09</td>\n",
       "      <td>0</td>\n",
       "    </tr>\n",
       "    <tr>\n",
       "      <th>9</th>\n",
       "      <td>-122.419088</td>\n",
       "      <td>37.807802</td>\n",
       "      <td>1.431569e+09</td>\n",
       "      <td>0</td>\n",
       "    </tr>\n",
       "  </tbody>\n",
       "</table>\n",
       "</div>"
      ],
      "text/plain": [
       "            X          Y         Dates  Category\n",
       "3 -122.426995  37.800873  1.431571e+09         0\n",
       "4 -122.438738  37.771541  1.431571e+09         0\n",
       "5 -122.403252  37.713431  1.431571e+09         0\n",
       "8 -122.508194  37.776601  1.431569e+09         0\n",
       "9 -122.419088  37.807802  1.431569e+09         0"
      ]
     },
     "metadata": {}
    }
   ],
   "metadata": {}
  },
  {
   "cell_type": "code",
   "execution_count": 21,
   "source": [
    "import numpy as np\n",
    "def to_categorical(x):\n",
    "    a = []\n",
    "    for i in range(6):\n",
    "        if x == i:\n",
    "            a.append(1)\n",
    "        else:\n",
    "            a.append(0)\n",
    "    return np.asarray(a).astype(np.int)"
   ],
   "outputs": [],
   "metadata": {}
  },
  {
   "cell_type": "code",
   "execution_count": 22,
   "source": [
    "from sklearn.model_selection import train_test_split\n",
    "from tensorflow.keras.utils import to_categorical\n",
    "predictores = data[[\"Dates\",\"X\",\"Y\"]]\n",
    "a_predecir = to_categorical(data[\"Category\"])\n",
    "print(a_predecir)\n",
    "X_train, X_test, y_train, y_test = train_test_split(predictores, a_predecir, test_size=0.2)"
   ],
   "outputs": [
    {
     "output_type": "stream",
     "name": "stderr",
     "text": [
      "2021-09-15 19:50:51.684932: W tensorflow/stream_executor/platform/default/dso_loader.cc:64] Could not load dynamic library 'libcudart.so.11.0'; dlerror: libcudart.so.11.0: cannot open shared object file: No such file or directory\n",
      "2021-09-15 19:50:51.684958: I tensorflow/stream_executor/cuda/cudart_stub.cc:29] Ignore above cudart dlerror if you do not have a GPU set up on your machine.\n"
     ]
    },
    {
     "output_type": "stream",
     "name": "stdout",
     "text": [
      "[[1. 0. 0. 0. 0. 0.]\n",
      " [1. 0. 0. 0. 0. 0.]\n",
      " [1. 0. 0. 0. 0. 0.]\n",
      " ...\n",
      " [1. 0. 0. 0. 0. 0.]\n",
      " [1. 0. 0. 0. 0. 0.]\n",
      " [0. 0. 0. 1. 0. 0.]]\n"
     ]
    }
   ],
   "metadata": {}
  },
  {
   "cell_type": "code",
   "execution_count": 23,
   "source": [
    "from sklearn import preprocessing as prepro\n",
    "X_train = prepro.StandardScaler().fit_transform(X_train)\n",
    "X_test = prepro.StandardScaler().fit_transform(X_test)"
   ],
   "outputs": [],
   "metadata": {}
  },
  {
   "cell_type": "code",
   "execution_count": 38,
   "source": [
    "from tensorflow import keras\n",
    "from tensorflow.keras import layers\n",
    "NN = keras.Sequential(\n",
    "    [layers.Dense(64,activation=\"relu\",input_shape=(3,)),\n",
    "    layers.Dense(32,activation=\"relu\"),\n",
    "    layers.Dropout(0.1),\n",
    "    layers.Dense(16,activation=\"relu\"),\n",
    "    layers.Dense(6,activation=\"softmax\")]\n",
    ")\n"
   ],
   "outputs": [],
   "metadata": {}
  },
  {
   "cell_type": "code",
   "execution_count": 39,
   "source": [
    "from tensorflow.keras.utils import plot_model\n",
    "plot_model(NN)"
   ],
   "outputs": [
    {
     "output_type": "stream",
     "name": "stdout",
     "text": [
      "('You must install pydot (`pip install pydot`) and install graphviz (see instructions at https://graphviz.gitlab.io/download/) ', 'for plot_model/model_to_dot to work.')\n"
     ]
    }
   ],
   "metadata": {}
  },
  {
   "cell_type": "code",
   "execution_count": 40,
   "source": [
    "NN.summary()\n"
   ],
   "outputs": [
    {
     "output_type": "stream",
     "name": "stdout",
     "text": [
      "Model: \"sequential_4\"\n",
      "_________________________________________________________________\n",
      "Layer (type)                 Output Shape              Param #   \n",
      "=================================================================\n",
      "dense_16 (Dense)             (None, 64)                256       \n",
      "_________________________________________________________________\n",
      "dense_17 (Dense)             (None, 32)                2080      \n",
      "_________________________________________________________________\n",
      "dropout_3 (Dropout)          (None, 32)                0         \n",
      "_________________________________________________________________\n",
      "dense_18 (Dense)             (None, 16)                528       \n",
      "_________________________________________________________________\n",
      "dense_19 (Dense)             (None, 6)                 102       \n",
      "=================================================================\n",
      "Total params: 2,966\n",
      "Trainable params: 2,966\n",
      "Non-trainable params: 0\n",
      "_________________________________________________________________\n"
     ]
    }
   ],
   "metadata": {}
  },
  {
   "cell_type": "code",
   "execution_count": 41,
   "source": [
    "NN.compile(\"adam\", \"categorical_crossentropy\", metrics=[\"accuracy\"])\n"
   ],
   "outputs": [],
   "metadata": {}
  },
  {
   "cell_type": "code",
   "execution_count": 42,
   "source": [
    "import tensorflow as tf\n",
    "NN.fit(X_train,y_train, epochs=5,batch_size=64,validation_data=(X_test,y_test))\n"
   ],
   "outputs": [
    {
     "output_type": "stream",
     "name": "stdout",
     "text": [
      "Epoch 1/5\n",
      "4504/4504 [==============================] - 10s 2ms/step - loss: 1.2694 - accuracy: 0.5002 - val_loss: 1.2249 - val_accuracy: 0.5185\n",
      "Epoch 2/5\n",
      "4504/4504 [==============================] - 10s 2ms/step - loss: 1.2087 - accuracy: 0.5261 - val_loss: 1.1941 - val_accuracy: 0.5401\n",
      "Epoch 3/5\n",
      "4504/4504 [==============================] - 10s 2ms/step - loss: 1.1877 - accuracy: 0.5394 - val_loss: 1.1734 - val_accuracy: 0.5487\n",
      "Epoch 4/5\n",
      "4504/4504 [==============================] - 11s 2ms/step - loss: 1.1757 - accuracy: 0.5444 - val_loss: 1.1666 - val_accuracy: 0.5481\n",
      "Epoch 5/5\n",
      "4504/4504 [==============================] - 12s 3ms/step - loss: 1.1688 - accuracy: 0.5485 - val_loss: 1.1598 - val_accuracy: 0.5532\n"
     ]
    },
    {
     "output_type": "execute_result",
     "data": {
      "text/plain": [
       "<keras.callbacks.History at 0x7fec882f36d0>"
      ]
     },
     "metadata": {},
     "execution_count": 42
    }
   ],
   "metadata": {}
  },
  {
   "cell_type": "code",
   "execution_count": 33,
   "source": [
    "#NN.save(\"red.h5\")"
   ],
   "outputs": [],
   "metadata": {}
  },
  {
   "cell_type": "code",
   "execution_count": null,
   "source": [],
   "outputs": [],
   "metadata": {}
  }
 ],
 "metadata": {
  "orig_nbformat": 4,
  "language_info": {
   "name": "python",
   "version": "3.8.10",
   "mimetype": "text/x-python",
   "codemirror_mode": {
    "name": "ipython",
    "version": 3
   },
   "pygments_lexer": "ipython3",
   "nbconvert_exporter": "python",
   "file_extension": ".py"
  },
  "kernelspec": {
   "name": "python3",
   "display_name": "Python 3.8.10 64-bit"
  },
  "interpreter": {
   "hash": "31f2aee4e71d21fbe5cf8b01ff0e069b9275f58929596ceb00d14d90e3e16cd6"
  }
 },
 "nbformat": 4,
 "nbformat_minor": 2
}