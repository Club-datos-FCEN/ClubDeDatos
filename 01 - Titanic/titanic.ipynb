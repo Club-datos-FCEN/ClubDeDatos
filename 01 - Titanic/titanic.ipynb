{
  "nbformat": 4,
  "nbformat_minor": 2,
  "metadata": {
    "colab": {
      "name": "titanic.ipynb",
      "provenance": [],
      "collapsed_sections": []
    },
    "kernelspec": {
      "name": "python3",
      "display_name": "Python 3.8.10 64-bit"
    },
    "language_info": {
      "name": "python",
      "version": "3.8.10",
      "mimetype": "text/x-python",
      "codemirror_mode": {
        "name": "ipython",
        "version": 3
      },
      "pygments_lexer": "ipython3",
      "nbconvert_exporter": "python",
      "file_extension": ".py"
    },
    "interpreter": {
      "hash": "916dbcbb3f70747c44a77c7bcd40155683ae19c65e1c03b4aa3499c5328201f1"
    }
  },
  "cells": [
    {
      "cell_type": "code",
      "execution_count": 2,
      "source": [
        "# Importar pandas y cargar los datos\n",
        "import pandas as pd\n",
        "\n",
        "data = pd.read_csv(\"titanic.csv\")\n",
        "display(data.head())"
      ],
      "outputs": [
        {
          "output_type": "display_data",
          "data": {
            "text/html": [
              "<div>\n",
              "<style scoped>\n",
              "    .dataframe tbody tr th:only-of-type {\n",
              "        vertical-align: middle;\n",
              "    }\n",
              "\n",
              "    .dataframe tbody tr th {\n",
              "        vertical-align: top;\n",
              "    }\n",
              "\n",
              "    .dataframe thead th {\n",
              "        text-align: right;\n",
              "    }\n",
              "</style>\n",
              "<table border=\"1\" class=\"dataframe\">\n",
              "  <thead>\n",
              "    <tr style=\"text-align: right;\">\n",
              "      <th></th>\n",
              "      <th>PassengerId</th>\n",
              "      <th>Survived</th>\n",
              "      <th>Pclass</th>\n",
              "      <th>Name</th>\n",
              "      <th>Sex</th>\n",
              "      <th>Age</th>\n",
              "      <th>SibSp</th>\n",
              "      <th>Parch</th>\n",
              "      <th>Ticket</th>\n",
              "      <th>Fare</th>\n",
              "      <th>Cabin</th>\n",
              "      <th>Embarked</th>\n",
              "    </tr>\n",
              "  </thead>\n",
              "  <tbody>\n",
              "    <tr>\n",
              "      <th>0</th>\n",
              "      <td>1</td>\n",
              "      <td>0</td>\n",
              "      <td>3</td>\n",
              "      <td>Braund, Mr. Owen Harris</td>\n",
              "      <td>male</td>\n",
              "      <td>22.0</td>\n",
              "      <td>1</td>\n",
              "      <td>0</td>\n",
              "      <td>A/5 21171</td>\n",
              "      <td>7.2500</td>\n",
              "      <td>NaN</td>\n",
              "      <td>S</td>\n",
              "    </tr>\n",
              "    <tr>\n",
              "      <th>1</th>\n",
              "      <td>2</td>\n",
              "      <td>1</td>\n",
              "      <td>1</td>\n",
              "      <td>Cumings, Mrs. John Bradley (Florence Briggs Th...</td>\n",
              "      <td>female</td>\n",
              "      <td>38.0</td>\n",
              "      <td>1</td>\n",
              "      <td>0</td>\n",
              "      <td>PC 17599</td>\n",
              "      <td>71.2833</td>\n",
              "      <td>C85</td>\n",
              "      <td>C</td>\n",
              "    </tr>\n",
              "    <tr>\n",
              "      <th>2</th>\n",
              "      <td>3</td>\n",
              "      <td>1</td>\n",
              "      <td>3</td>\n",
              "      <td>Heikkinen, Miss. Laina</td>\n",
              "      <td>female</td>\n",
              "      <td>26.0</td>\n",
              "      <td>0</td>\n",
              "      <td>0</td>\n",
              "      <td>STON/O2. 3101282</td>\n",
              "      <td>7.9250</td>\n",
              "      <td>NaN</td>\n",
              "      <td>S</td>\n",
              "    </tr>\n",
              "    <tr>\n",
              "      <th>3</th>\n",
              "      <td>4</td>\n",
              "      <td>1</td>\n",
              "      <td>1</td>\n",
              "      <td>Futrelle, Mrs. Jacques Heath (Lily May Peel)</td>\n",
              "      <td>female</td>\n",
              "      <td>35.0</td>\n",
              "      <td>1</td>\n",
              "      <td>0</td>\n",
              "      <td>113803</td>\n",
              "      <td>53.1000</td>\n",
              "      <td>C123</td>\n",
              "      <td>S</td>\n",
              "    </tr>\n",
              "    <tr>\n",
              "      <th>4</th>\n",
              "      <td>5</td>\n",
              "      <td>0</td>\n",
              "      <td>3</td>\n",
              "      <td>Allen, Mr. William Henry</td>\n",
              "      <td>male</td>\n",
              "      <td>35.0</td>\n",
              "      <td>0</td>\n",
              "      <td>0</td>\n",
              "      <td>373450</td>\n",
              "      <td>8.0500</td>\n",
              "      <td>NaN</td>\n",
              "      <td>S</td>\n",
              "    </tr>\n",
              "  </tbody>\n",
              "</table>\n",
              "</div>"
            ],
            "text/plain": [
              "   PassengerId  Survived  Pclass  \\\n",
              "0            1         0       3   \n",
              "1            2         1       1   \n",
              "2            3         1       3   \n",
              "3            4         1       1   \n",
              "4            5         0       3   \n",
              "\n",
              "                                                Name     Sex   Age  SibSp  \\\n",
              "0                            Braund, Mr. Owen Harris    male  22.0      1   \n",
              "1  Cumings, Mrs. John Bradley (Florence Briggs Th...  female  38.0      1   \n",
              "2                             Heikkinen, Miss. Laina  female  26.0      0   \n",
              "3       Futrelle, Mrs. Jacques Heath (Lily May Peel)  female  35.0      1   \n",
              "4                           Allen, Mr. William Henry    male  35.0      0   \n",
              "\n",
              "   Parch            Ticket     Fare Cabin Embarked  \n",
              "0      0         A/5 21171   7.2500   NaN        S  \n",
              "1      0          PC 17599  71.2833   C85        C  \n",
              "2      0  STON/O2. 3101282   7.9250   NaN        S  \n",
              "3      0            113803  53.1000  C123        S  \n",
              "4      0            373450   8.0500   NaN        S  "
            ]
          },
          "metadata": {}
        }
      ],
      "metadata": {
        "id": "8VVZsmyD35z4",
        "colab": {
          "base_uri": "https://localhost:8080/",
          "height": 206
        },
        "outputId": "15e02b90-86c9-4bce-c33a-288d2582773e"
      }
    },
    {
      "cell_type": "code",
      "execution_count": 3,
      "source": [
        "# Hacer algunas estadisticas resumiendo\n",
        "\n",
        "# df.shape: muestra las dimensiones de nuestra data, cuantas filas y columnas\n",
        "print(\"Total de pasajeros:\", data.shape[0])\n",
        "\n",
        "# Podemos filtrar por el valor de alguna columna\n",
        "sobreviven = data[data['Survived'] == 1]\n",
        "\n",
        "# Manera fancy de mostrar los resultados\n",
        "print(\"Sobrevivieron:      {} ({:.2f}%)\".format(sobreviven.shape[0], \n",
        "                                                sobreviven.shape[0] / data.shape[0] * 100.0))\n",
        "\n",
        "# Una columna es un objeto de tipo pd.Series, y la funcion .mean() nos calcula el promedio\n",
        "# Nota: Pandas ofrece la funcion groupby() para agrupar por los distintos valores de una columna\n",
        "promedio_guita = data['Fare'].mean()\n",
        "promedio_guita_vivos = sobreviven['Fare'].mean()\n",
        "\n",
        "print(\"Promedio Guita:     {:.2f} (General), {:.2f} (Solo Sobrevivientes)\".format(promedio_guita, promedio_guita_vivos))\n",
        "\n",
        "# Otro indicador básico interesante es la mediana:\n",
        "mediana_guita = data['Fare'].median()\n",
        "mediana_guita_vivos = sobreviven['Fare'].median()\n",
        "\n",
        "print(\"Mediana Guita:      {:.2f} (General), {:.2f} (Solo Sobrevivientes)\".format(mediana_guita, mediana_guita_vivos))\n",
        "\n",
        "# Para ver la distribución, podemos mirar la desviacion estándar de la muestra\n",
        "varianza_guita = data['Fare'].std()\n",
        "varianza_guita_vivos = sobreviven['Fare'].std()\n",
        "\n",
        "print(\"Desviación Guita:   {:.2f} (General), {:.2f} (Solo Sobrevivientes)\".format(varianza_guita, varianza_guita_vivos))\n"
      ],
      "outputs": [
        {
          "output_type": "stream",
          "name": "stdout",
          "text": [
            "Total de pasajeros: 891\n",
            "Sobrevivieron:      342 (38.38%)\n",
            "Promedio Guita:     32.20 (General), 48.40 (Solo Sobrevivientes)\n",
            "Mediana Guita:      14.45 (General), 26.00 (Solo Sobrevivientes)\n",
            "Desviación Guita:   49.69 (General), 66.60 (Solo Sobrevivientes)\n"
          ]
        }
      ],
      "metadata": {
        "id": "nBgo5JNWo3RZ",
        "colab": {
          "base_uri": "https://localhost:8080/"
        },
        "outputId": "dabccc2b-b1fe-4df6-e973-264f6854a6ac"
      }
    },
    {
      "cell_type": "code",
      "execution_count": 4,
      "source": [
        "# Hacer grafiquitos\n",
        "import matplotlib.pyplot as plt\n",
        "\n",
        "# hist() sirve para armar un histograma\n",
        "data['Fare'].hist(bins=25)\n",
        "\n",
        "# Esto controla como se ve el gráfico y las referencias\n",
        "plt.title('Tarifa')\n",
        "plt.xlabel('Precio de la Tarifa (Libras)')\n",
        "plt.ylabel('Pasajeros')\n",
        "\n",
        "# Mostrar el gráfico\n",
        "plt.show()\n",
        "\n",
        "sobreviven['Fare'].hist(bins=25)\n",
        "plt.title('Tarifa')\n",
        "plt.xlabel('Precio de la Tarifa (Libras)')\n",
        "plt.ylabel('Pasajeros')\n",
        "plt.show()\n",
        "\n",
        "# Detectamos que hay un dato raro: una sola persona pagó más de 500 libras. Saquemos al outlier!\n",
        "sin_outlier = sobreviven[sobreviven[\"Fare\"] < 300][\"Fare\"]\n",
        "sin_outlier.hist(bins=20)\n",
        "plt.show()\n",
        "\n",
        "print(sin_outlier.mean())\n",
        "\n",
        "# Mostrar otros tipos de graficos: scatterplot, boxplot"
      ],
      "outputs": [
        {
          "output_type": "display_data",
          "data": {
            "image/png": "[encoded data removed]",
            "text/plain": [
              "<Figure size 432x288 with 1 Axes>"
            ]
          },
          "metadata": {
            "needs_background": "light"
          }
        },
        {
          "output_type": "display_data",
          "data": {
            "image/png": "[encoded data removed]",
            "text/plain": [
              "<Figure size 432x288 with 1 Axes>"
            ]
          },
          "metadata": {
            "needs_background": "light"
          }
        },
        {
          "output_type": "display_data",
          "data": {
            "image/png": "[encoded data removed]",
            "text/plain": [
              "<Figure size 432x288 with 1 Axes>"
            ]
          },
          "metadata": {
            "needs_background": "light"
          }
        },
        {
          "output_type": "stream",
          "name": "stdout",
          "text": [
            "44.289798820059\n"
          ]
        }
      ],
      "metadata": {
        "colab": {
          "base_uri": "https://localhost:8080/",
          "height": 838
        },
        "id": "7UlH3lGsGDgx",
        "outputId": "6c143893-c7f9-4dae-f8b8-763181b888f6"
      }
    },
    {
      "cell_type": "code",
      "execution_count": 26,
      "source": [
        "# Por ahora vemos el siguiente modelo: Arbol de Decision\n",
        "from sklearn import tree\n",
        "from sklearn.model_selection import train_test_split\n",
        "\n",
        "\n",
        "# Hay que convertir la columna \"Sex\" a un numero\n",
        "def generoANumero(genero):\n",
        "  return int(genero == \"female\")\n",
        "# Desechamos datos incompletos con .dropna()\n",
        "todos = data[[\"Fare\",\"Sex\",\"Pclass\",\"Age\",\"Survived\"]].dropna()\n",
        "predictores = todos[[\"Fare\",\"Sex\",\"Pclass\",\"Age\"]]\n",
        "predictores[\"Sex\"] = predictores[\"Sex\"].apply(generoANumero)\n",
        "a_predecir  = todos[\"Survived\"]\n",
        "X_train, X_test, y_train, y_test = train_test_split(predictores, a_predecir, test_size=0.2)\n",
        "\n",
        "print(a_predecir.shape[0])\n",
        "\n",
        "\n",
        "for i in range(1,21):\n",
        "  modelo = tree.DecisionTreeClassifier(max_depth=i)\n",
        "  modelo = modelo.fit(X_train, y_train)\n",
        "  print(f\"Usando {i} preguntas la precision es de: {modelo.score(X_test,y_test)} y usa {modelo.get_depth()}\")\n",
        "  print(f\"Usando {i} preguntas la precision es de: {modelo.score(X_train,y_train)} sobre el train y usa {modelo.get_depth()}\")\n",
        "  #tree.plot_tree(modelo)\n",
        "  #r = tree.export_text(modelo, feature_names=predictores.columns.values.tolist())\n",
        "  #print(r)"
      ],
      "outputs": [
        {
          "output_type": "stream",
          "name": "stdout",
          "text": [
            "714\n",
            "Usando 1 preguntas la precision es de: 0.7832167832167832 y usa 1\n",
            "Usando 1 preguntas la precision es de: 0.7793345008756567 sobre el train y usa 1\n",
            "Usando 2 preguntas la precision es de: 0.7762237762237763 y usa 2\n",
            "Usando 2 preguntas la precision es de: 0.7950963222416813 sobre el train y usa 2\n",
            "Usando 3 preguntas la precision es de: 0.7902097902097902 y usa 3\n",
            "Usando 3 preguntas la precision es de: 0.819614711033275 sobre el train y usa 3\n",
            "Usando 4 preguntas la precision es de: 0.7692307692307693 y usa 4\n",
            "Usando 4 preguntas la precision es de: 0.840630472854641 sobre el train y usa 4\n",
            "Usando 5 preguntas la precision es de: 0.8041958041958042 y usa 5\n",
            "Usando 5 preguntas la precision es de: 0.8669001751313485 sobre el train y usa 5\n",
            "Usando 6 preguntas la precision es de: 0.7902097902097902 y usa 6\n",
            "Usando 6 preguntas la precision es de: 0.8791593695271454 sobre el train y usa 6\n",
            "Usando 7 preguntas la precision es de: 0.7692307692307693 y usa 7\n",
            "Usando 7 preguntas la precision es de: 0.9019264448336253 sobre el train y usa 7\n",
            "Usando 8 preguntas la precision es de: 0.7762237762237763 y usa 8\n",
            "Usando 8 preguntas la precision es de: 0.9176882661996497 sobre el train y usa 8\n",
            "Usando 9 preguntas la precision es de: 0.7622377622377622 y usa 9\n",
            "Usando 9 preguntas la precision es de: 0.9299474605954466 sobre el train y usa 9\n",
            "Usando 10 preguntas la precision es de: 0.7692307692307693 y usa 10\n",
            "Usando 10 preguntas la precision es de: 0.9457092819614711 sobre el train y usa 10\n",
            "Usando 11 preguntas la precision es de: 0.7412587412587412 y usa 11\n",
            "Usando 11 preguntas la precision es de: 0.9492119089316988 sobre el train y usa 11\n",
            "Usando 12 preguntas la precision es de: 0.7762237762237763 y usa 12\n",
            "Usando 12 preguntas la precision es de: 0.9544658493870403 sobre el train y usa 12\n",
            "Usando 13 preguntas la precision es de: 0.7622377622377622 y usa 13\n",
            "Usando 13 preguntas la precision es de: 0.9632224168126094 sobre el train y usa 13\n",
            "Usando 14 preguntas la precision es de: 0.7762237762237763 y usa 14\n",
            "Usando 14 preguntas la precision es de: 0.968476357267951 sobre el train y usa 14\n",
            "Usando 15 preguntas la precision es de: 0.7622377622377622 y usa 15\n",
            "Usando 15 preguntas la precision es de: 0.9772329246935202 sobre el train y usa 15\n",
            "Usando 16 preguntas la precision es de: 0.7482517482517482 y usa 16\n",
            "Usando 16 preguntas la precision es de: 0.9824868651488616 sobre el train y usa 16\n",
            "Usando 17 preguntas la precision es de: 0.7552447552447552 y usa 17\n",
            "Usando 17 preguntas la precision es de: 0.9824868651488616 sobre el train y usa 17\n",
            "Usando 18 preguntas la precision es de: 0.7482517482517482 y usa 18\n",
            "Usando 18 preguntas la precision es de: 0.9842381786339754 sobre el train y usa 18\n",
            "Usando 19 preguntas la precision es de: 0.7412587412587412 y usa 19\n",
            "Usando 19 preguntas la precision es de: 0.9877408056042032 sobre el train y usa 19\n",
            "Usando 20 preguntas la precision es de: 0.7552447552447552 y usa 20\n",
            "Usando 20 preguntas la precision es de: 0.9877408056042032 sobre el train y usa 20\n"
          ]
        },
        {
          "output_type": "stream",
          "name": "stderr",
          "text": [
            "/tmp/ipykernel_31872/1379584776.py:12: SettingWithCopyWarning: \n",
            "A value is trying to be set on a copy of a slice from a DataFrame.\n",
            "Try using .loc[row_indexer,col_indexer] = value instead\n",
            "\n",
            "See the caveats in the documentation: https://pandas.pydata.org/pandas-docs/stable/user_guide/indexing.html#returning-a-view-versus-a-copy\n",
            "  predictores[\"Sex\"] = predictores[\"Sex\"].apply(generoANumero)\n"
          ]
        }
      ],
      "metadata": {
        "id": "73YpdzO_T7B6",
        "colab": {
          "base_uri": "https://localhost:8080/"
        },
        "outputId": "7661477a-fd61-4f1e-ccff-e4ae36820517"
      }
    },
    {
      "cell_type": "code",
      "execution_count": 36,
      "source": [
        "# (elijo) Importo modelo\n",
        "from sklearn.neighbors import KNeighborsClassifier\n",
        "\n",
        "  # Configuro el modelo\n",
        "predictores[\"Fare\"] /= predictores[\"Fare\"].max()\n",
        "X_train, X_test, y_train, y_test = train_test_split(predictores, a_predecir, test_size=0.2)\n",
        "\n",
        "for i in range(0,31,3):\n",
        "    if i == 0:\n",
        "        continue\n",
        "    modelo = KNeighborsClassifier(n_neighbors=i)\n",
        "\n",
        "    # Ajusto el modelo\n",
        "    modelo.fit(X_train, y_train)\n",
        "\n",
        "    # Predigo con el modelo que ajuste\n",
        "    y_pred = pd.Series(modelo.predict(X_test), index = y_test.index)\n",
        "\n",
        "    ## Ver el error\n",
        "    result = pd.DataFrame(pd.concat([y_pred, y_test], axis = 1))\n",
        "    result.columns = ['prediccion', 'verdadero']\n",
        "\n",
        "    ## Accuracy (porcentaje de acierto)\n",
        "    porcentaje = 100*sum(result.prediccion == result.verdadero)/len(result.prediccion)\n",
        "    if i % 3 == 0:\n",
        "        print(f\"{i} vecinos {porcentaje}\")"
      ],
      "outputs": [
        {
          "output_type": "stream",
          "name": "stdout",
          "text": [
            "3 vecinos 72.72727272727273\n",
            "6 vecinos 75.52447552447552\n",
            "9 vecinos 74.82517482517483\n",
            "12 vecinos 74.12587412587412\n",
            "15 vecinos 74.82517482517483\n",
            "18 vecinos 74.12587412587412\n",
            "21 vecinos 73.42657342657343\n",
            "24 vecinos 71.32867132867133\n",
            "27 vecinos 69.23076923076923\n",
            "30 vecinos 68.53146853146853\n"
          ]
        },
        {
          "output_type": "stream",
          "name": "stderr",
          "text": [
            "/tmp/ipykernel_31872/4173934661.py:5: SettingWithCopyWarning: \n",
            "A value is trying to be set on a copy of a slice from a DataFrame.\n",
            "Try using .loc[row_indexer,col_indexer] = value instead\n",
            "\n",
            "See the caveats in the documentation: https://pandas.pydata.org/pandas-docs/stable/user_guide/indexing.html#returning-a-view-versus-a-copy\n",
            "  predictores[\"Fare\"] /= predictores[\"Fare\"].max()\n"
          ]
        }
      ],
      "metadata": {}
    },
    {
      "cell_type": "code",
      "execution_count": null,
      "source": [],
      "outputs": [],
      "metadata": {}
    }
  ]
}