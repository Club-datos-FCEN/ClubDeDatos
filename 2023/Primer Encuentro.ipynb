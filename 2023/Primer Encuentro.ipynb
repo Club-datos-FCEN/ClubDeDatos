{
  "cells": [
    {
      "cell_type": "code",
      "execution_count": 2,
      "metadata": {
        "colab": {
          "base_uri": "https://localhost:8080/",
          "height": 206
        },
        "id": "thYWGwM4sLxY",
        "outputId": "ec74671c-7543-44f0-e00d-a01924caf2e5"
      },
      "outputs": [
        {
          "data": {
            "text/html": [
              "<div>\n",
              "<style scoped>\n",
              "    .dataframe tbody tr th:only-of-type {\n",
              "        vertical-align: middle;\n",
              "    }\n",
              "\n",
              "    .dataframe tbody tr th {\n",
              "        vertical-align: top;\n",
              "    }\n",
              "\n",
              "    .dataframe thead th {\n",
              "        text-align: right;\n",
              "    }\n",
              "</style>\n",
              "<table border=\"1\" class=\"dataframe\">\n",
              "  <thead>\n",
              "    <tr style=\"text-align: right;\">\n",
              "      <th></th>\n",
              "      <th>lat</th>\n",
              "      <th>lon</th>\n",
              "      <th>rooms</th>\n",
              "      <th>bedrooms</th>\n",
              "      <th>bathrooms</th>\n",
              "      <th>surface_total</th>\n",
              "      <th>surface_covered</th>\n",
              "      <th>price</th>\n",
              "      <th>property_type</th>\n",
              "      <th>barrio</th>\n",
              "    </tr>\n",
              "  </thead>\n",
              "  <tbody>\n",
              "    <tr>\n",
              "      <th>0</th>\n",
              "      <td>-34.652250</td>\n",
              "      <td>-58.385565</td>\n",
              "      <td>NaN</td>\n",
              "      <td>NaN</td>\n",
              "      <td>NaN</td>\n",
              "      <td>300.0</td>\n",
              "      <td>180.0</td>\n",
              "      <td>320000.0</td>\n",
              "      <td>PH</td>\n",
              "      <td>Barracas</td>\n",
              "    </tr>\n",
              "    <tr>\n",
              "      <th>1</th>\n",
              "      <td>-34.628248</td>\n",
              "      <td>-58.406525</td>\n",
              "      <td>6.0</td>\n",
              "      <td>NaN</td>\n",
              "      <td>2.0</td>\n",
              "      <td>178.0</td>\n",
              "      <td>240.0</td>\n",
              "      <td>500000.0</td>\n",
              "      <td>Casa</td>\n",
              "      <td>Boedo</td>\n",
              "    </tr>\n",
              "    <tr>\n",
              "      <th>2</th>\n",
              "      <td>-34.592796</td>\n",
              "      <td>-58.420930</td>\n",
              "      <td>NaN</td>\n",
              "      <td>NaN</td>\n",
              "      <td>2.0</td>\n",
              "      <td>240.0</td>\n",
              "      <td>157.0</td>\n",
              "      <td>350000.0</td>\n",
              "      <td>Casa</td>\n",
              "      <td>Palermo</td>\n",
              "    </tr>\n",
              "    <tr>\n",
              "      <th>3</th>\n",
              "      <td>-34.565632</td>\n",
              "      <td>-58.465134</td>\n",
              "      <td>3.0</td>\n",
              "      <td>NaN</td>\n",
              "      <td>4.0</td>\n",
              "      <td>157.0</td>\n",
              "      <td>NaN</td>\n",
              "      <td>470000.0</td>\n",
              "      <td>Casa</td>\n",
              "      <td>Belgrano</td>\n",
              "    </tr>\n",
              "    <tr>\n",
              "      <th>4</th>\n",
              "      <td>-34.622177</td>\n",
              "      <td>-58.522724</td>\n",
              "      <td>NaN</td>\n",
              "      <td>NaN</td>\n",
              "      <td>1.0</td>\n",
              "      <td>140.0</td>\n",
              "      <td>110.0</td>\n",
              "      <td>155000.0</td>\n",
              "      <td>Casa</td>\n",
              "      <td>Versalles</td>\n",
              "    </tr>\n",
              "    <tr>\n",
              "      <th>5</th>\n",
              "      <td>-34.632099</td>\n",
              "      <td>-58.497681</td>\n",
              "      <td>3.0</td>\n",
              "      <td>NaN</td>\n",
              "      <td>2.0</td>\n",
              "      <td>95.0</td>\n",
              "      <td>69.0</td>\n",
              "      <td>199900.0</td>\n",
              "      <td>Casa</td>\n",
              "      <td>Velez Sarsfield</td>\n",
              "    </tr>\n",
              "    <tr>\n",
              "      <th>6</th>\n",
              "      <td>-34.543070</td>\n",
              "      <td>-58.462586</td>\n",
              "      <td>1.0</td>\n",
              "      <td>NaN</td>\n",
              "      <td>1.0</td>\n",
              "      <td>44.0</td>\n",
              "      <td>38.0</td>\n",
              "      <td>147000.0</td>\n",
              "      <td>Departamento</td>\n",
              "      <td>Nuñez</td>\n",
              "    </tr>\n",
              "    <tr>\n",
              "      <th>7</th>\n",
              "      <td>-34.601520</td>\n",
              "      <td>-58.424350</td>\n",
              "      <td>1.0</td>\n",
              "      <td>NaN</td>\n",
              "      <td>1.0</td>\n",
              "      <td>40.0</td>\n",
              "      <td>37.0</td>\n",
              "      <td>92294.0</td>\n",
              "      <td>Departamento</td>\n",
              "      <td>Almagro</td>\n",
              "    </tr>\n",
              "    <tr>\n",
              "      <th>8</th>\n",
              "      <td>-34.601520</td>\n",
              "      <td>-58.424350</td>\n",
              "      <td>1.0</td>\n",
              "      <td>NaN</td>\n",
              "      <td>1.0</td>\n",
              "      <td>49.0</td>\n",
              "      <td>44.0</td>\n",
              "      <td>115000.0</td>\n",
              "      <td>Departamento</td>\n",
              "      <td>Almagro</td>\n",
              "    </tr>\n",
              "    <tr>\n",
              "      <th>9</th>\n",
              "      <td>-34.601520</td>\n",
              "      <td>-58.424350</td>\n",
              "      <td>1.0</td>\n",
              "      <td>NaN</td>\n",
              "      <td>1.0</td>\n",
              "      <td>40.0</td>\n",
              "      <td>37.0</td>\n",
              "      <td>77000.0</td>\n",
              "      <td>Departamento</td>\n",
              "      <td>Almagro</td>\n",
              "    </tr>\n",
              "  </tbody>\n",
              "</table>\n",
              "</div>"
            ],
            "text/plain": [
              "         lat        lon  rooms  bedrooms  bathrooms  surface_total  \\\n",
              "0 -34.652250 -58.385565    NaN       NaN        NaN          300.0   \n",
              "1 -34.628248 -58.406525    6.0       NaN        2.0          178.0   \n",
              "2 -34.592796 -58.420930    NaN       NaN        2.0          240.0   \n",
              "3 -34.565632 -58.465134    3.0       NaN        4.0          157.0   \n",
              "4 -34.622177 -58.522724    NaN       NaN        1.0          140.0   \n",
              "5 -34.632099 -58.497681    3.0       NaN        2.0           95.0   \n",
              "6 -34.543070 -58.462586    1.0       NaN        1.0           44.0   \n",
              "7 -34.601520 -58.424350    1.0       NaN        1.0           40.0   \n",
              "8 -34.601520 -58.424350    1.0       NaN        1.0           49.0   \n",
              "9 -34.601520 -58.424350    1.0       NaN        1.0           40.0   \n",
              "\n",
              "   surface_covered     price property_type           barrio  \n",
              "0            180.0  320000.0            PH         Barracas  \n",
              "1            240.0  500000.0          Casa            Boedo  \n",
              "2            157.0  350000.0          Casa          Palermo  \n",
              "3              NaN  470000.0          Casa         Belgrano  \n",
              "4            110.0  155000.0          Casa        Versalles  \n",
              "5             69.0  199900.0          Casa  Velez Sarsfield  \n",
              "6             38.0  147000.0  Departamento            Nuñez  \n",
              "7             37.0   92294.0  Departamento          Almagro  \n",
              "8             44.0  115000.0  Departamento          Almagro  \n",
              "9             37.0   77000.0  Departamento          Almagro  "
            ]
          },
          "execution_count": 2,
          "metadata": {},
          "output_type": "execute_result"
        }
      ],
      "source": [
        "# Cargamos librería\n",
        "import pandas as pd\n",
        "\n",
        "# Cargamos los datos. Vienen en formato \"csv\" (Comma Separated Values)\n",
        "data = pd.read_csv(\"https://raw.githubusercontent.com/Club-datos-FCEN/ClubDeDatos/main/2022/01%20-%20Propiedades/CABAprop.csv\")\n",
        "\n",
        "# Vemos los primeros 10 datos\n",
        "data.head(10)"
      ]
    },
    {
      "cell_type": "code",
      "execution_count": 3,
      "metadata": {
        "colab": {
          "base_uri": "https://localhost:8080/"
        },
        "id": "auMjJnx4RWsC",
        "outputId": "1bc223f7-199d-494a-b630-f8492c88cfb7"
      },
      "outputs": [
        {
          "data": {
            "text/plain": [
              "(58571, 10)"
            ]
          },
          "execution_count": 3,
          "metadata": {},
          "output_type": "execute_result"
        }
      ],
      "source": [
        "# Cuántos datos hay?\n",
        "data.shape"
      ]
    },
    {
      "cell_type": "code",
      "execution_count": 4,
      "metadata": {
        "colab": {
          "base_uri": "https://localhost:8080/",
          "height": 300
        },
        "id": "RIhCw-4CcIAi",
        "outputId": "5a639ef2-6a50-4ea1-a4e6-f1997f20cd03"
      },
      "outputs": [
        {
          "data": {
            "text/html": [
              "<div>\n",
              "<style scoped>\n",
              "    .dataframe tbody tr th:only-of-type {\n",
              "        vertical-align: middle;\n",
              "    }\n",
              "\n",
              "    .dataframe tbody tr th {\n",
              "        vertical-align: top;\n",
              "    }\n",
              "\n",
              "    .dataframe thead th {\n",
              "        text-align: right;\n",
              "    }\n",
              "</style>\n",
              "<table border=\"1\" class=\"dataframe\">\n",
              "  <thead>\n",
              "    <tr style=\"text-align: right;\">\n",
              "      <th></th>\n",
              "      <th>lat</th>\n",
              "      <th>lon</th>\n",
              "      <th>rooms</th>\n",
              "      <th>bedrooms</th>\n",
              "      <th>bathrooms</th>\n",
              "      <th>surface_total</th>\n",
              "      <th>surface_covered</th>\n",
              "      <th>price</th>\n",
              "    </tr>\n",
              "  </thead>\n",
              "  <tbody>\n",
              "    <tr>\n",
              "      <th>count</th>\n",
              "      <td>58571.000000</td>\n",
              "      <td>58571.000000</td>\n",
              "      <td>53537.000000</td>\n",
              "      <td>34703.000000</td>\n",
              "      <td>55607.000000</td>\n",
              "      <td>55326.000000</td>\n",
              "      <td>55782.000000</td>\n",
              "      <td>5.857100e+04</td>\n",
              "    </tr>\n",
              "    <tr>\n",
              "      <th>mean</th>\n",
              "      <td>-34.598952</td>\n",
              "      <td>-58.437172</td>\n",
              "      <td>2.779816</td>\n",
              "      <td>2.038440</td>\n",
              "      <td>1.498606</td>\n",
              "      <td>102.506651</td>\n",
              "      <td>85.590764</td>\n",
              "      <td>2.362771e+05</td>\n",
              "    </tr>\n",
              "    <tr>\n",
              "      <th>std</th>\n",
              "      <td>0.025259</td>\n",
              "      <td>0.037113</td>\n",
              "      <td>1.381505</td>\n",
              "      <td>1.502085</td>\n",
              "      <td>0.836310</td>\n",
              "      <td>784.904628</td>\n",
              "      <td>557.125944</td>\n",
              "      <td>2.157540e+05</td>\n",
              "    </tr>\n",
              "    <tr>\n",
              "      <th>min</th>\n",
              "      <td>-34.697266</td>\n",
              "      <td>-58.530468</td>\n",
              "      <td>1.000000</td>\n",
              "      <td>0.000000</td>\n",
              "      <td>1.000000</td>\n",
              "      <td>0.000000</td>\n",
              "      <td>1.000000</td>\n",
              "      <td>4.000000e+04</td>\n",
              "    </tr>\n",
              "    <tr>\n",
              "      <th>25%</th>\n",
              "      <td>-34.615243</td>\n",
              "      <td>-58.462336</td>\n",
              "      <td>2.000000</td>\n",
              "      <td>1.000000</td>\n",
              "      <td>1.000000</td>\n",
              "      <td>45.000000</td>\n",
              "      <td>40.000000</td>\n",
              "      <td>1.160000e+05</td>\n",
              "    </tr>\n",
              "    <tr>\n",
              "      <th>50%</th>\n",
              "      <td>-34.598962</td>\n",
              "      <td>-58.435193</td>\n",
              "      <td>3.000000</td>\n",
              "      <td>2.000000</td>\n",
              "      <td>1.000000</td>\n",
              "      <td>66.000000</td>\n",
              "      <td>59.000000</td>\n",
              "      <td>1.680000e+05</td>\n",
              "    </tr>\n",
              "    <tr>\n",
              "      <th>75%</th>\n",
              "      <td>-34.582047</td>\n",
              "      <td>-58.410200</td>\n",
              "      <td>4.000000</td>\n",
              "      <td>3.000000</td>\n",
              "      <td>2.000000</td>\n",
              "      <td>106.000000</td>\n",
              "      <td>92.000000</td>\n",
              "      <td>2.700000e+05</td>\n",
              "    </tr>\n",
              "    <tr>\n",
              "      <th>max</th>\n",
              "      <td>-34.536134</td>\n",
              "      <td>-58.356179</td>\n",
              "      <td>32.000000</td>\n",
              "      <td>130.000000</td>\n",
              "      <td>14.000000</td>\n",
              "      <td>126062.000000</td>\n",
              "      <td>126062.000000</td>\n",
              "      <td>2.000000e+06</td>\n",
              "    </tr>\n",
              "  </tbody>\n",
              "</table>\n",
              "</div>"
            ],
            "text/plain": [
              "                lat           lon         rooms      bedrooms     bathrooms  \\\n",
              "count  58571.000000  58571.000000  53537.000000  34703.000000  55607.000000   \n",
              "mean     -34.598952    -58.437172      2.779816      2.038440      1.498606   \n",
              "std        0.025259      0.037113      1.381505      1.502085      0.836310   \n",
              "min      -34.697266    -58.530468      1.000000      0.000000      1.000000   \n",
              "25%      -34.615243    -58.462336      2.000000      1.000000      1.000000   \n",
              "50%      -34.598962    -58.435193      3.000000      2.000000      1.000000   \n",
              "75%      -34.582047    -58.410200      4.000000      3.000000      2.000000   \n",
              "max      -34.536134    -58.356179     32.000000    130.000000     14.000000   \n",
              "\n",
              "       surface_total  surface_covered         price  \n",
              "count   55326.000000     55782.000000  5.857100e+04  \n",
              "mean      102.506651        85.590764  2.362771e+05  \n",
              "std       784.904628       557.125944  2.157540e+05  \n",
              "min         0.000000         1.000000  4.000000e+04  \n",
              "25%        45.000000        40.000000  1.160000e+05  \n",
              "50%        66.000000        59.000000  1.680000e+05  \n",
              "75%       106.000000        92.000000  2.700000e+05  \n",
              "max    126062.000000    126062.000000  2.000000e+06  "
            ]
          },
          "execution_count": 4,
          "metadata": {},
          "output_type": "execute_result"
        }
      ],
      "source": [
        "# Veamos algunas estadísticas rápidas\n",
        "data.describe()"
      ]
    },
    {
      "attachments": {},
      "cell_type": "markdown",
      "metadata": {},
      "source": [
        "Vemos algunas cosas raras, como una propiedad con 130 habitaciones."
      ]
    },
    {
      "cell_type": "code",
      "execution_count": 5,
      "metadata": {},
      "outputs": [
        {
          "data": {
            "text/html": [
              "<div>\n",
              "<style scoped>\n",
              "    .dataframe tbody tr th:only-of-type {\n",
              "        vertical-align: middle;\n",
              "    }\n",
              "\n",
              "    .dataframe tbody tr th {\n",
              "        vertical-align: top;\n",
              "    }\n",
              "\n",
              "    .dataframe thead th {\n",
              "        text-align: right;\n",
              "    }\n",
              "</style>\n",
              "<table border=\"1\" class=\"dataframe\">\n",
              "  <thead>\n",
              "    <tr style=\"text-align: right;\">\n",
              "      <th></th>\n",
              "      <th>lat</th>\n",
              "      <th>lon</th>\n",
              "      <th>rooms</th>\n",
              "      <th>bedrooms</th>\n",
              "      <th>bathrooms</th>\n",
              "      <th>surface_total</th>\n",
              "      <th>surface_covered</th>\n",
              "      <th>price</th>\n",
              "      <th>property_type</th>\n",
              "      <th>barrio</th>\n",
              "    </tr>\n",
              "  </thead>\n",
              "  <tbody>\n",
              "    <tr>\n",
              "      <th>21668</th>\n",
              "      <td>-34.588495</td>\n",
              "      <td>-58.444621</td>\n",
              "      <td>NaN</td>\n",
              "      <td>130.0</td>\n",
              "      <td>NaN</td>\n",
              "      <td>NaN</td>\n",
              "      <td>NaN</td>\n",
              "      <td>360000.0</td>\n",
              "      <td>Departamento</td>\n",
              "      <td>Chacarita</td>\n",
              "    </tr>\n",
              "    <tr>\n",
              "      <th>29173</th>\n",
              "      <td>-34.588495</td>\n",
              "      <td>-58.444621</td>\n",
              "      <td>NaN</td>\n",
              "      <td>130.0</td>\n",
              "      <td>NaN</td>\n",
              "      <td>NaN</td>\n",
              "      <td>NaN</td>\n",
              "      <td>360000.0</td>\n",
              "      <td>Departamento</td>\n",
              "      <td>Chacarita</td>\n",
              "    </tr>\n",
              "  </tbody>\n",
              "</table>\n",
              "</div>"
            ],
            "text/plain": [
              "             lat        lon  rooms  bedrooms  bathrooms  surface_total  \\\n",
              "21668 -34.588495 -58.444621    NaN     130.0        NaN            NaN   \n",
              "29173 -34.588495 -58.444621    NaN     130.0        NaN            NaN   \n",
              "\n",
              "       surface_covered     price property_type     barrio  \n",
              "21668              NaN  360000.0  Departamento  Chacarita  \n",
              "29173              NaN  360000.0  Departamento  Chacarita  "
            ]
          },
          "execution_count": 5,
          "metadata": {},
          "output_type": "execute_result"
        }
      ],
      "source": [
        "# Veamos esa propiedad con un filtro\n",
        "data[data[\"bedrooms\"] == 130]"
      ]
    },
    {
      "attachments": {},
      "cell_type": "markdown",
      "metadata": {},
      "source": [
        "A veces conviene tirar estos casos raros para mejorar la *calidad* de los datos, hacerlos más representativos y más amigables para la red neuronal. Lo de recién nos mostraba cómo se verían los datos filtrados, pero no cambió el valor de `data`.\n",
        "Filtremos de vuelta y guardemos el resultado."
      ]
    },
    {
      "cell_type": "code",
      "execution_count": 6,
      "metadata": {},
      "outputs": [],
      "source": [
        "data2 = data[data[\"bedrooms\"] != 130]"
      ]
    },
    {
      "attachments": {},
      "cell_type": "markdown",
      "metadata": {},
      "source": [
        "Otra cosa importante es cómo manejamos los datos faltantes (que Pandas los representa con un NaN = Not a Number)"
      ]
    },
    {
      "cell_type": "code",
      "execution_count": 7,
      "metadata": {
        "colab": {
          "base_uri": "https://localhost:8080/"
        },
        "id": "z1ejhlhJcYC-",
        "outputId": "f2f73df1-0555-42f3-c822-db462a34d158"
      },
      "outputs": [
        {
          "data": {
            "text/plain": [
              "lat                    0\n",
              "lon                    0\n",
              "rooms               5032\n",
              "bedrooms           23868\n",
              "bathrooms           2962\n",
              "surface_total       3243\n",
              "surface_covered     2787\n",
              "price                  0\n",
              "property_type          0\n",
              "barrio                 0\n",
              "dtype: int64"
            ]
          },
          "execution_count": 7,
          "metadata": {},
          "output_type": "execute_result"
        }
      ],
      "source": [
        "# Contar los valores faltantes\n",
        "data2.isna().sum()"
      ]
    },
    {
      "attachments": {},
      "cell_type": "markdown",
      "metadata": {},
      "source": [
        "Una opción es, si me importa mucho una columna, descartar las filas que no tengan ese dato."
      ]
    },
    {
      "cell_type": "code",
      "execution_count": 8,
      "metadata": {
        "colab": {
          "base_uri": "https://localhost:8080/"
        },
        "id": "7RJ3G65gZGcd",
        "outputId": "dbee69ac-ebee-4978-fa7a-f49edd3ff3e8"
      },
      "outputs": [
        {
          "data": {
            "text/plain": [
              "lat                    0\n",
              "lon                    0\n",
              "rooms               3876\n",
              "bedrooms           19837\n",
              "bathrooms           2006\n",
              "surface_total          0\n",
              "surface_covered        0\n",
              "price                  0\n",
              "property_type          0\n",
              "barrio                 0\n",
              "dtype: int64"
            ]
          },
          "execution_count": 8,
          "metadata": {},
          "output_type": "execute_result"
        }
      ],
      "source": [
        "data3 = data2.dropna(subset=['surface_total', 'surface_covered'])\n",
        "data3.isna().sum()"
      ]
    },
    {
      "cell_type": "markdown",
      "metadata": {
        "id": "hvOk-0icZcIJ"
      },
      "source": [
        "Puede parecer que perdimos varios datos, en especial comparado con el original, pero para comparar existen datasets estándar como el California Housing, que tienen alrededor de 20000 datos."
      ]
    },
    {
      "attachments": {},
      "cell_type": "markdown",
      "metadata": {},
      "source": [
        "Otra opción es decidir que una columna no me importa (tanto). En este caso faltan muchos datos de `bedrooms`, capaz conviene sacar ese columna."
      ]
    },
    {
      "cell_type": "code",
      "execution_count": 12,
      "metadata": {},
      "outputs": [
        {
          "data": {
            "text/html": [
              "<div>\n",
              "<style scoped>\n",
              "    .dataframe tbody tr th:only-of-type {\n",
              "        vertical-align: middle;\n",
              "    }\n",
              "\n",
              "    .dataframe tbody tr th {\n",
              "        vertical-align: top;\n",
              "    }\n",
              "\n",
              "    .dataframe thead th {\n",
              "        text-align: right;\n",
              "    }\n",
              "</style>\n",
              "<table border=\"1\" class=\"dataframe\">\n",
              "  <thead>\n",
              "    <tr style=\"text-align: right;\">\n",
              "      <th></th>\n",
              "      <th>lat</th>\n",
              "      <th>lon</th>\n",
              "      <th>rooms</th>\n",
              "      <th>bathrooms</th>\n",
              "      <th>surface_total</th>\n",
              "      <th>surface_covered</th>\n",
              "      <th>price</th>\n",
              "      <th>property_type</th>\n",
              "      <th>barrio</th>\n",
              "    </tr>\n",
              "  </thead>\n",
              "  <tbody>\n",
              "    <tr>\n",
              "      <th>0</th>\n",
              "      <td>-34.652250</td>\n",
              "      <td>-58.385565</td>\n",
              "      <td>NaN</td>\n",
              "      <td>NaN</td>\n",
              "      <td>300.0</td>\n",
              "      <td>180.0</td>\n",
              "      <td>320000.0</td>\n",
              "      <td>PH</td>\n",
              "      <td>Barracas</td>\n",
              "    </tr>\n",
              "    <tr>\n",
              "      <th>1</th>\n",
              "      <td>-34.628248</td>\n",
              "      <td>-58.406525</td>\n",
              "      <td>6.0</td>\n",
              "      <td>2.0</td>\n",
              "      <td>178.0</td>\n",
              "      <td>240.0</td>\n",
              "      <td>500000.0</td>\n",
              "      <td>Casa</td>\n",
              "      <td>Boedo</td>\n",
              "    </tr>\n",
              "    <tr>\n",
              "      <th>2</th>\n",
              "      <td>-34.592796</td>\n",
              "      <td>-58.420930</td>\n",
              "      <td>NaN</td>\n",
              "      <td>2.0</td>\n",
              "      <td>240.0</td>\n",
              "      <td>157.0</td>\n",
              "      <td>350000.0</td>\n",
              "      <td>Casa</td>\n",
              "      <td>Palermo</td>\n",
              "    </tr>\n",
              "    <tr>\n",
              "      <th>3</th>\n",
              "      <td>-34.565632</td>\n",
              "      <td>-58.465134</td>\n",
              "      <td>3.0</td>\n",
              "      <td>4.0</td>\n",
              "      <td>157.0</td>\n",
              "      <td>NaN</td>\n",
              "      <td>470000.0</td>\n",
              "      <td>Casa</td>\n",
              "      <td>Belgrano</td>\n",
              "    </tr>\n",
              "    <tr>\n",
              "      <th>4</th>\n",
              "      <td>-34.622177</td>\n",
              "      <td>-58.522724</td>\n",
              "      <td>NaN</td>\n",
              "      <td>1.0</td>\n",
              "      <td>140.0</td>\n",
              "      <td>110.0</td>\n",
              "      <td>155000.0</td>\n",
              "      <td>Casa</td>\n",
              "      <td>Versalles</td>\n",
              "    </tr>\n",
              "  </tbody>\n",
              "</table>\n",
              "</div>"
            ],
            "text/plain": [
              "         lat        lon  rooms  bathrooms  surface_total  surface_covered  \\\n",
              "0 -34.652250 -58.385565    NaN        NaN          300.0            180.0   \n",
              "1 -34.628248 -58.406525    6.0        2.0          178.0            240.0   \n",
              "2 -34.592796 -58.420930    NaN        2.0          240.0            157.0   \n",
              "3 -34.565632 -58.465134    3.0        4.0          157.0              NaN   \n",
              "4 -34.622177 -58.522724    NaN        1.0          140.0            110.0   \n",
              "\n",
              "      price property_type     barrio  \n",
              "0  320000.0            PH   Barracas  \n",
              "1  500000.0          Casa      Boedo  \n",
              "2  350000.0          Casa    Palermo  \n",
              "3  470000.0          Casa   Belgrano  \n",
              "4  155000.0          Casa  Versalles  "
            ]
          },
          "execution_count": 12,
          "metadata": {},
          "output_type": "execute_result"
        }
      ],
      "source": [
        "# Notar que usamos data2, no el data3 que creamos recién\n",
        "data4 = data2.drop(columns=['bedrooms'])\n",
        "data4.head()"
      ]
    },
    {
      "attachments": {},
      "cell_type": "markdown",
      "metadata": {},
      "source": [
        "Finalmente, veamos cómo están distribuidos los datos. Por ejemplo, tenemos sobre-representatividad de algunos barrios? Cómo puede llegar a afectar a nuestras predicciones de precios?"
      ]
    },
    {
      "cell_type": "code",
      "execution_count": 13,
      "metadata": {
        "colab": {
          "base_uri": "https://localhost:8080/"
        },
        "id": "0rTMG1gSaf-B",
        "outputId": "842d81b0-29f8-43b6-fb09-626495949c3c"
      },
      "outputs": [
        {
          "data": {
            "text/plain": [
              "Palermo                 7968\n",
              "Belgrano                4873\n",
              "Caballito               4144\n",
              "Almagro                 4124\n",
              "Villa Crespo            3457\n",
              "Recoleta                3086\n",
              "Villa Urquiza           2474\n",
              "Barrio Norte            2283\n",
              "Balvanera               1831\n",
              "Flores                  1740\n",
              "Nuñez                   1573\n",
              "Villa Devoto            1078\n",
              "San Cristobal            991\n",
              "Colegiales               944\n",
              "San Telmo                918\n",
              "Villa del Parque         890\n",
              "Puerto Madero            840\n",
              "Saavedra                 807\n",
              "Floresta                 787\n",
              "Mataderos                677\n",
              "Liniers                  665\n",
              "San Nicolás              658\n",
              "Villa Luro               645\n",
              "Boedo                    643\n",
              "Paternal                 635\n",
              "Monserrat                609\n",
              "Parque Chacabuco         606\n",
              "Parque Centenario        591\n",
              "Barracas                 564\n",
              "Villa Pueyrredón         558\n",
              "Retiro                   552\n",
              "Chacarita                535\n",
              "Congreso                 534\n",
              "Once                     465\n",
              "Villa Lugano             461\n",
              "Coghlan                  431\n",
              "Constitución             367\n",
              "Parque Patricios         352\n",
              "Monte Castro             317\n",
              "Las Cañitas              314\n",
              "Abasto                   291\n",
              "Versalles                241\n",
              "Villa Santa Rita         239\n",
              "Boca                     221\n",
              "Villa General Mitre      202\n",
              "Villa Ortuzar            198\n",
              "Centro / Microcentro     193\n",
              "Parque Avellaneda        191\n",
              "Pompeya                  157\n",
              "Parque Chas              143\n",
              "Villa Real               116\n",
              "Velez Sarsfield          113\n",
              "Agronomía                107\n",
              "Tribunales               104\n",
              "Villa Soldati             31\n",
              "Villa Riachuelo           30\n",
              "Catalinas                  7\n",
              "Name: barrio, dtype: int64"
            ]
          },
          "execution_count": 13,
          "metadata": {},
          "output_type": "execute_result"
        }
      ],
      "source": [
        "# Cuáles son los barrios que más aparecen?\n",
        "data['barrio'].value_counts()"
      ]
    },
    {
      "attachments": {},
      "cell_type": "markdown",
      "metadata": {},
      "source": [
        "Hasta aca llegamos con el primer encuentro! Nos vemos el proximo miércoles a las 15 hs en el aula 1111. Cualquier cosa, no dudes en consultarnos en nuestro instagram @club_de_datos o en el canal de Discord!"
      ]
    },
    {
      "attachments": {},
      "cell_type": "markdown",
      "metadata": {},
      "source": [
        "# Extra: Algunos Grafiquitos"
      ]
    },
    {
      "cell_type": "code",
      "execution_count": 10,
      "metadata": {},
      "outputs": [
        {
          "data": {
            "image/png": "[encoded data removed]",
            "text/plain": [
              "<Figure size 640x480 with 1 Axes>"
            ]
          },
          "metadata": {},
          "output_type": "display_data"
        }
      ],
      "source": [
        "# Cargo la librería para graficar\n",
        "import matplotlib.pyplot as plt\n",
        "\n",
        "# Armo un histograma. bins es la cantidad de barras en las que agrupa los precios, pueden jugar a variarlo.\n",
        "plt.hist(data['price'], bins=30)\n",
        "\n",
        "# Cosas para que quede más descriptivo el gráfico\n",
        "plt.title('Precio de Propiedades en CABA')\n",
        "plt.xlabel('Precio (millones de Dolares)')\n",
        "\n",
        "# Finalmente, lo muestro\n",
        "plt.show()"
      ]
    },
    {
      "cell_type": "code",
      "execution_count": 11,
      "metadata": {},
      "outputs": [
        {
          "data": {
            "image/png": "[encoded data removed]",
            "text/plain": [
              "<Figure size 640x480 with 1 Axes>"
            ]
          },
          "metadata": {},
          "output_type": "display_data"
        }
      ],
      "source": [
        "# Ver propiedades por barrio\n",
        "#  Usamos de vuelta value_counts. El '[:10]' es para quedarse con los 10 barrios más frecuentes\n",
        "data_por_barrio = data['barrio'].value_counts()[:10]\n",
        "\n",
        "plt.bar(x=data_por_barrio.index, height=data_por_barrio)\n",
        "\n",
        "# Se pueden rotar las etiquetas para que no se superpongan entre sí\n",
        "plt.xticks(rotation=45)\n",
        "plt.show()"
      ]
    }
  ],
  "metadata": {
    "colab": {
      "provenance": []
    },
    "gpuClass": "standard",
    "kernelspec": {
      "display_name": "Python 3",
      "language": "python",
      "name": "python3"
    },
    "language_info": {
      "codemirror_mode": {
        "name": "ipython",
        "version": 3
      },
      "file_extension": ".py",
      "mimetype": "text/x-python",
      "name": "python",
      "nbconvert_exporter": "python",
      "pygments_lexer": "ipython3",
      "version": "3.10.0"
    },
    "vscode": {
      "interpreter": {
        "hash": "7e1998ff7f8aa20ada591c520b972326324e5ea05489af9e422744c7c09f6dad"
      }
    }
  },
  "nbformat": 4,
  "nbformat_minor": 0
}
