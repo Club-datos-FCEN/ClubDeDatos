{
  "cells": [
    {
      "attachments": {},
      "cell_type": "markdown",
      "metadata": {},
      "source": [
        "# Repaso Primera Clase / Limpieza de Datos\n",
        "Acá buscamos mejorar la calidad de los datos antes de pasarselos a la red"
      ]
    },
    {
      "cell_type": "code",
      "execution_count": 115,
      "metadata": {
        "colab": {
          "base_uri": "https://localhost:8080/"
        },
        "id": "vOzDy8f5W7aD",
        "outputId": "ee971f8c-4472-4f47-932d-4fed24e3dc8d"
      },
      "outputs": [
        {
          "data": {
            "text/plain": [
              "(58571, 10)"
            ]
          },
          "execution_count": 115,
          "metadata": {},
          "output_type": "execute_result"
        }
      ],
      "source": [
        "import pandas as pd #Pandas: librería para trabajar con data sets\n",
        "data = pd.read_csv(\"https://raw.githubusercontent.com/Club-datos-FCEN/ClubDeDatos/main/2022/01%20-%20Propiedades/CABAprop.csv\")  #cargo los datos\n",
        "data.shape"
      ]
    },
    {
      "attachments": {},
      "cell_type": "markdown",
      "metadata": {},
      "source": [
        "Para pasarle los datos a la Red Neuronal, no podemos tener datos faltantes. Como en la columna bedrooms faltaban muchos, decidimos primero filtrar una propiedad rara (con 130 dormitorios) y después ignoramos (tiramos) esa columna entera. Después tiramos todas las filas a las que le faltara alguno de los otros datos."
      ]
    },
    {
      "cell_type": "code",
      "execution_count": 116,
      "metadata": {
        "colab": {
          "base_uri": "https://localhost:8080/"
        },
        "id": "DQsEZ3pNXozB",
        "outputId": "a9500822-7884-49a0-f21c-0f4d175a6920"
      },
      "outputs": [
        {
          "data": {
            "text/plain": [
              "lat                    0\n",
              "lon                    0\n",
              "rooms               5034\n",
              "bedrooms           23868\n",
              "bathrooms           2964\n",
              "surface_total       3245\n",
              "surface_covered     2789\n",
              "price                  0\n",
              "property_type          0\n",
              "barrio                 0\n",
              "dtype: int64"
            ]
          },
          "execution_count": 116,
          "metadata": {},
          "output_type": "execute_result"
        }
      ],
      "source": [
        "data.isna().sum()"
      ]
    },
    {
      "cell_type": "code",
      "execution_count": 117,
      "metadata": {
        "id": "fyt2cPfkXGG_"
      },
      "outputs": [
        {
          "data": {
            "text/plain": [
              "lat                0\n",
              "lon                0\n",
              "rooms              0\n",
              "bathrooms          0\n",
              "surface_total      0\n",
              "surface_covered    0\n",
              "price              0\n",
              "property_type      0\n",
              "barrio             0\n",
              "dtype: int64"
            ]
          },
          "execution_count": 117,
          "metadata": {},
          "output_type": "execute_result"
        }
      ],
      "source": [
        "data = data[data[\"bedrooms\"] != 130]\n",
        "data = data.drop(columns=\"bedrooms\")\n",
        "data = data.dropna()\n",
        "data.isna().sum()"
      ]
    },
    {
      "cell_type": "code",
      "execution_count": 118,
      "metadata": {
        "id": "PcRVjUmwXSf-"
      },
      "outputs": [
        {
          "data": {
            "text/html": [
              "<div>\n",
              "<style scoped>\n",
              "    .dataframe tbody tr th:only-of-type {\n",
              "        vertical-align: middle;\n",
              "    }\n",
              "\n",
              "    .dataframe tbody tr th {\n",
              "        vertical-align: top;\n",
              "    }\n",
              "\n",
              "    .dataframe thead th {\n",
              "        text-align: right;\n",
              "    }\n",
              "</style>\n",
              "<table border=\"1\" class=\"dataframe\">\n",
              "  <thead>\n",
              "    <tr style=\"text-align: right;\">\n",
              "      <th></th>\n",
              "      <th>lat</th>\n",
              "      <th>lon</th>\n",
              "      <th>rooms</th>\n",
              "      <th>bathrooms</th>\n",
              "      <th>surface_total</th>\n",
              "      <th>surface_covered</th>\n",
              "      <th>price</th>\n",
              "    </tr>\n",
              "  </thead>\n",
              "  <tbody>\n",
              "    <tr>\n",
              "      <th>count</th>\n",
              "      <td>48652.000000</td>\n",
              "      <td>48652.000000</td>\n",
              "      <td>48652.000000</td>\n",
              "      <td>48652.000000</td>\n",
              "      <td>48652.000000</td>\n",
              "      <td>48652.000000</td>\n",
              "      <td>4.865200e+04</td>\n",
              "    </tr>\n",
              "    <tr>\n",
              "      <th>mean</th>\n",
              "      <td>-34.597904</td>\n",
              "      <td>-58.436370</td>\n",
              "      <td>2.787779</td>\n",
              "      <td>1.480453</td>\n",
              "      <td>100.569596</td>\n",
              "      <td>84.186549</td>\n",
              "      <td>2.357235e+05</td>\n",
              "    </tr>\n",
              "    <tr>\n",
              "      <th>std</th>\n",
              "      <td>0.024446</td>\n",
              "      <td>0.036168</td>\n",
              "      <td>1.373587</td>\n",
              "      <td>0.806777</td>\n",
              "      <td>834.842645</td>\n",
              "      <td>594.660208</td>\n",
              "      <td>2.124950e+05</td>\n",
              "    </tr>\n",
              "    <tr>\n",
              "      <th>min</th>\n",
              "      <td>-34.696419</td>\n",
              "      <td>-58.530468</td>\n",
              "      <td>1.000000</td>\n",
              "      <td>1.000000</td>\n",
              "      <td>10.000000</td>\n",
              "      <td>2.000000</td>\n",
              "      <td>4.000000e+04</td>\n",
              "    </tr>\n",
              "    <tr>\n",
              "      <th>25%</th>\n",
              "      <td>-34.613408</td>\n",
              "      <td>-58.460234</td>\n",
              "      <td>2.000000</td>\n",
              "      <td>1.000000</td>\n",
              "      <td>45.000000</td>\n",
              "      <td>40.000000</td>\n",
              "      <td>1.185000e+05</td>\n",
              "    </tr>\n",
              "    <tr>\n",
              "      <th>50%</th>\n",
              "      <td>-34.598219</td>\n",
              "      <td>-58.434238</td>\n",
              "      <td>3.000000</td>\n",
              "      <td>1.000000</td>\n",
              "      <td>66.000000</td>\n",
              "      <td>59.000000</td>\n",
              "      <td>1.690000e+05</td>\n",
              "    </tr>\n",
              "    <tr>\n",
              "      <th>75%</th>\n",
              "      <td>-34.581737</td>\n",
              "      <td>-58.410998</td>\n",
              "      <td>4.000000</td>\n",
              "      <td>2.000000</td>\n",
              "      <td>105.000000</td>\n",
              "      <td>90.000000</td>\n",
              "      <td>2.700000e+05</td>\n",
              "    </tr>\n",
              "    <tr>\n",
              "      <th>max</th>\n",
              "      <td>-34.536134</td>\n",
              "      <td>-58.356937</td>\n",
              "      <td>32.000000</td>\n",
              "      <td>14.000000</td>\n",
              "      <td>126062.000000</td>\n",
              "      <td>126062.000000</td>\n",
              "      <td>2.000000e+06</td>\n",
              "    </tr>\n",
              "  </tbody>\n",
              "</table>\n",
              "</div>"
            ],
            "text/plain": [
              "                lat           lon         rooms     bathrooms  surface_total  \\\n",
              "count  48652.000000  48652.000000  48652.000000  48652.000000   48652.000000   \n",
              "mean     -34.597904    -58.436370      2.787779      1.480453     100.569596   \n",
              "std        0.024446      0.036168      1.373587      0.806777     834.842645   \n",
              "min      -34.696419    -58.530468      1.000000      1.000000      10.000000   \n",
              "25%      -34.613408    -58.460234      2.000000      1.000000      45.000000   \n",
              "50%      -34.598219    -58.434238      3.000000      1.000000      66.000000   \n",
              "75%      -34.581737    -58.410998      4.000000      2.000000     105.000000   \n",
              "max      -34.536134    -58.356937     32.000000     14.000000  126062.000000   \n",
              "\n",
              "       surface_covered         price  \n",
              "count     48652.000000  4.865200e+04  \n",
              "mean         84.186549  2.357235e+05  \n",
              "std         594.660208  2.124950e+05  \n",
              "min           2.000000  4.000000e+04  \n",
              "25%          40.000000  1.185000e+05  \n",
              "50%          59.000000  1.690000e+05  \n",
              "75%          90.000000  2.700000e+05  \n",
              "max      126062.000000  2.000000e+06  "
            ]
          },
          "execution_count": 118,
          "metadata": {},
          "output_type": "execute_result"
        }
      ],
      "source": [
        "# Veamos como quedó el dataset\n",
        "data.describe()"
      ]
    },
    {
      "attachments": {},
      "cell_type": "markdown",
      "metadata": {},
      "source": [
        "Ahora, notamos algo sobre los tipos de propiedad. Capaz es muy dificil predecir bien el precio de casas, PHs y Departamentos. Podriamos enfocarnos sólo en uno. Veamos cómo están distribuidos nuestros datos:"
      ]
    },
    {
      "cell_type": "code",
      "execution_count": 119,
      "metadata": {},
      "outputs": [
        {
          "data": {
            "text/plain": [
              "Departamento    41887\n",
              "PH               4796\n",
              "Casa             1969\n",
              "Name: property_type, dtype: int64"
            ]
          },
          "execution_count": 119,
          "metadata": {},
          "output_type": "execute_result"
        }
      ],
      "source": [
        "data['property_type'].value_counts()"
      ]
    },
    {
      "attachments": {},
      "cell_type": "markdown",
      "metadata": {},
      "source": [
        "Hay muy pocas casas y PHs! (Relativo a los deptos). Capaz sea muy dificil predecir sus precios. Concentremonos sólo en los deptos:"
      ]
    },
    {
      "cell_type": "code",
      "execution_count": 120,
      "metadata": {
        "id": "_63CREcPZIjO"
      },
      "outputs": [
        {
          "data": {
            "text/html": [
              "<div>\n",
              "<style scoped>\n",
              "    .dataframe tbody tr th:only-of-type {\n",
              "        vertical-align: middle;\n",
              "    }\n",
              "\n",
              "    .dataframe tbody tr th {\n",
              "        vertical-align: top;\n",
              "    }\n",
              "\n",
              "    .dataframe thead th {\n",
              "        text-align: right;\n",
              "    }\n",
              "</style>\n",
              "<table border=\"1\" class=\"dataframe\">\n",
              "  <thead>\n",
              "    <tr style=\"text-align: right;\">\n",
              "      <th></th>\n",
              "      <th>lat</th>\n",
              "      <th>lon</th>\n",
              "      <th>rooms</th>\n",
              "      <th>bathrooms</th>\n",
              "      <th>surface_total</th>\n",
              "      <th>surface_covered</th>\n",
              "      <th>price</th>\n",
              "      <th>barrio</th>\n",
              "    </tr>\n",
              "  </thead>\n",
              "  <tbody>\n",
              "    <tr>\n",
              "      <th>6</th>\n",
              "      <td>-34.54307</td>\n",
              "      <td>-58.462586</td>\n",
              "      <td>1.0</td>\n",
              "      <td>1.0</td>\n",
              "      <td>44.0</td>\n",
              "      <td>38.0</td>\n",
              "      <td>147000.0</td>\n",
              "      <td>Nuñez</td>\n",
              "    </tr>\n",
              "    <tr>\n",
              "      <th>7</th>\n",
              "      <td>-34.60152</td>\n",
              "      <td>-58.424350</td>\n",
              "      <td>1.0</td>\n",
              "      <td>1.0</td>\n",
              "      <td>40.0</td>\n",
              "      <td>37.0</td>\n",
              "      <td>92294.0</td>\n",
              "      <td>Almagro</td>\n",
              "    </tr>\n",
              "    <tr>\n",
              "      <th>8</th>\n",
              "      <td>-34.60152</td>\n",
              "      <td>-58.424350</td>\n",
              "      <td>1.0</td>\n",
              "      <td>1.0</td>\n",
              "      <td>49.0</td>\n",
              "      <td>44.0</td>\n",
              "      <td>115000.0</td>\n",
              "      <td>Almagro</td>\n",
              "    </tr>\n",
              "    <tr>\n",
              "      <th>9</th>\n",
              "      <td>-34.60152</td>\n",
              "      <td>-58.424350</td>\n",
              "      <td>1.0</td>\n",
              "      <td>1.0</td>\n",
              "      <td>40.0</td>\n",
              "      <td>37.0</td>\n",
              "      <td>77000.0</td>\n",
              "      <td>Almagro</td>\n",
              "    </tr>\n",
              "    <tr>\n",
              "      <th>10</th>\n",
              "      <td>-34.60152</td>\n",
              "      <td>-58.424350</td>\n",
              "      <td>1.0</td>\n",
              "      <td>1.0</td>\n",
              "      <td>40.0</td>\n",
              "      <td>37.0</td>\n",
              "      <td>88900.0</td>\n",
              "      <td>Almagro</td>\n",
              "    </tr>\n",
              "  </tbody>\n",
              "</table>\n",
              "</div>"
            ],
            "text/plain": [
              "         lat        lon  rooms  bathrooms  surface_total  surface_covered  \\\n",
              "6  -34.54307 -58.462586    1.0        1.0           44.0             38.0   \n",
              "7  -34.60152 -58.424350    1.0        1.0           40.0             37.0   \n",
              "8  -34.60152 -58.424350    1.0        1.0           49.0             44.0   \n",
              "9  -34.60152 -58.424350    1.0        1.0           40.0             37.0   \n",
              "10 -34.60152 -58.424350    1.0        1.0           40.0             37.0   \n",
              "\n",
              "       price   barrio  \n",
              "6   147000.0    Nuñez  \n",
              "7    92294.0  Almagro  \n",
              "8   115000.0  Almagro  \n",
              "9    77000.0  Almagro  \n",
              "10   88900.0  Almagro  "
            ]
          },
          "execution_count": 120,
          "metadata": {},
          "output_type": "execute_result"
        }
      ],
      "source": [
        "data = data[data[\"property_type\"] == \"Departamento\"]\n",
        "data = data.drop(columns = \"property_type\")\n",
        "data.head()"
      ]
    },
    {
      "attachments": {},
      "cell_type": "markdown",
      "metadata": {},
      "source": [
        "Hagamos un grafiquito para ver cómo está distribuido lo que queremos predecir"
      ]
    },
    {
      "cell_type": "code",
      "execution_count": 121,
      "metadata": {
        "colab": {
          "base_uri": "https://localhost:8080/",
          "height": 365
        },
        "id": "fzYWm9MrZYFu",
        "outputId": "ac3ac13e-4ac5-423c-f049-355528a38d91"
      },
      "outputs": [
        {
          "data": {
            "image/png": "[encoded data removed]",
            "text/plain": [
              "<Figure size 640x480 with 1 Axes>"
            ]
          },
          "metadata": {},
          "output_type": "display_data"
        }
      ],
      "source": [
        "import matplotlib.pyplot as plt\n",
        "plt.hist(data[\"price\"])\n",
        "plt.show()"
      ]
    },
    {
      "attachments": {},
      "cell_type": "markdown",
      "metadata": {},
      "source": [
        "# Convirtiendo los Valores Categóricos\n",
        "Recordemos que a nuestra red neuronal le tenemos que pasar como entrada numeritos. Pero veamos cómo quedaron los datos"
      ]
    },
    {
      "cell_type": "code",
      "execution_count": 122,
      "metadata": {
        "colab": {
          "base_uri": "https://localhost:8080/",
          "height": 206
        },
        "id": "-SUdDl0fZ1t_",
        "outputId": "12f17ffd-453d-470f-fdf2-1e8b905e1c09"
      },
      "outputs": [
        {
          "data": {
            "text/html": [
              "<div>\n",
              "<style scoped>\n",
              "    .dataframe tbody tr th:only-of-type {\n",
              "        vertical-align: middle;\n",
              "    }\n",
              "\n",
              "    .dataframe tbody tr th {\n",
              "        vertical-align: top;\n",
              "    }\n",
              "\n",
              "    .dataframe thead th {\n",
              "        text-align: right;\n",
              "    }\n",
              "</style>\n",
              "<table border=\"1\" class=\"dataframe\">\n",
              "  <thead>\n",
              "    <tr style=\"text-align: right;\">\n",
              "      <th></th>\n",
              "      <th>lat</th>\n",
              "      <th>lon</th>\n",
              "      <th>rooms</th>\n",
              "      <th>bathrooms</th>\n",
              "      <th>surface_total</th>\n",
              "      <th>surface_covered</th>\n",
              "      <th>price</th>\n",
              "      <th>barrio</th>\n",
              "    </tr>\n",
              "  </thead>\n",
              "  <tbody>\n",
              "    <tr>\n",
              "      <th>6</th>\n",
              "      <td>-34.54307</td>\n",
              "      <td>-58.462586</td>\n",
              "      <td>1.0</td>\n",
              "      <td>1.0</td>\n",
              "      <td>44.0</td>\n",
              "      <td>38.0</td>\n",
              "      <td>147000.0</td>\n",
              "      <td>Nuñez</td>\n",
              "    </tr>\n",
              "    <tr>\n",
              "      <th>7</th>\n",
              "      <td>-34.60152</td>\n",
              "      <td>-58.424350</td>\n",
              "      <td>1.0</td>\n",
              "      <td>1.0</td>\n",
              "      <td>40.0</td>\n",
              "      <td>37.0</td>\n",
              "      <td>92294.0</td>\n",
              "      <td>Almagro</td>\n",
              "    </tr>\n",
              "    <tr>\n",
              "      <th>8</th>\n",
              "      <td>-34.60152</td>\n",
              "      <td>-58.424350</td>\n",
              "      <td>1.0</td>\n",
              "      <td>1.0</td>\n",
              "      <td>49.0</td>\n",
              "      <td>44.0</td>\n",
              "      <td>115000.0</td>\n",
              "      <td>Almagro</td>\n",
              "    </tr>\n",
              "    <tr>\n",
              "      <th>9</th>\n",
              "      <td>-34.60152</td>\n",
              "      <td>-58.424350</td>\n",
              "      <td>1.0</td>\n",
              "      <td>1.0</td>\n",
              "      <td>40.0</td>\n",
              "      <td>37.0</td>\n",
              "      <td>77000.0</td>\n",
              "      <td>Almagro</td>\n",
              "    </tr>\n",
              "    <tr>\n",
              "      <th>10</th>\n",
              "      <td>-34.60152</td>\n",
              "      <td>-58.424350</td>\n",
              "      <td>1.0</td>\n",
              "      <td>1.0</td>\n",
              "      <td>40.0</td>\n",
              "      <td>37.0</td>\n",
              "      <td>88900.0</td>\n",
              "      <td>Almagro</td>\n",
              "    </tr>\n",
              "  </tbody>\n",
              "</table>\n",
              "</div>"
            ],
            "text/plain": [
              "         lat        lon  rooms  bathrooms  surface_total  surface_covered  \\\n",
              "6  -34.54307 -58.462586    1.0        1.0           44.0             38.0   \n",
              "7  -34.60152 -58.424350    1.0        1.0           40.0             37.0   \n",
              "8  -34.60152 -58.424350    1.0        1.0           49.0             44.0   \n",
              "9  -34.60152 -58.424350    1.0        1.0           40.0             37.0   \n",
              "10 -34.60152 -58.424350    1.0        1.0           40.0             37.0   \n",
              "\n",
              "       price   barrio  \n",
              "6   147000.0    Nuñez  \n",
              "7    92294.0  Almagro  \n",
              "8   115000.0  Almagro  \n",
              "9    77000.0  Almagro  \n",
              "10   88900.0  Almagro  "
            ]
          },
          "execution_count": 122,
          "metadata": {},
          "output_type": "execute_result"
        }
      ],
      "source": [
        "data.head()"
      ]
    },
    {
      "attachments": {},
      "cell_type": "markdown",
      "metadata": {},
      "source": [
        "La columna barrio tiene texto! Este tipo de datos se los suele llamar \"categóricos\". Qué vamos a hacer?\n",
        "\n",
        "Una manera de enfrentar este problema es asignarle a cada barrio un número, capaz al azar, capaz en orden alfabético. Esto se puede haer con la función `.factorize()` Sin embargo, hay problemas con esta propuesta. Capaz dos barrios muy distintos o lejos geográficamente, como Boedo y Belgrano, terminan cerca numéricamente. Es decir que, por ejemplo, para la red Belgrano se parecería más a Boedo que a Recoleta. Esto se podría evitar si armaramos el orden de modo que represente algo real, capaz ordenandolos según cuál barrio es, en promedio, más caro. Pero sería un trabajo manual y capaz introducimos sesgos.\n",
        "\n",
        "Hay una alternativa, aunque capaz al principio parece que estamos complicando el problema mucho. Podriamos separar la variable barrio en una variable por cada barrio, que va a valer 0 o 1 dependiendo de si la propiedad no está o está en ese barrio. Esta técnica es muy común para este tipo de problema, y se conoce como *one-hot encoding*.\n",
        "\n",
        "Ojo, siendo que tenemos longitud y latitud, podríamos ignorar la columna de barrios y dejar que la red detecte sola las zonas más caras. Incluso podríamos entrenar otra red que, en base a las coordenadas, sepa a qué barrio pertenece. Pero no nos vayamos por las ramas.\n",
        "\n",
        "**TL;DR:** vamos a aplicar one-hot encoding"
      ]
    },
    {
      "cell_type": "code",
      "execution_count": 123,
      "metadata": {
        "id": "lPTd8g3PZ3M8"
      },
      "outputs": [
        {
          "data": {
            "text/html": [
              "<div>\n",
              "<style scoped>\n",
              "    .dataframe tbody tr th:only-of-type {\n",
              "        vertical-align: middle;\n",
              "    }\n",
              "\n",
              "    .dataframe tbody tr th {\n",
              "        vertical-align: top;\n",
              "    }\n",
              "\n",
              "    .dataframe thead th {\n",
              "        text-align: right;\n",
              "    }\n",
              "</style>\n",
              "<table border=\"1\" class=\"dataframe\">\n",
              "  <thead>\n",
              "    <tr style=\"text-align: right;\">\n",
              "      <th></th>\n",
              "      <th>lat</th>\n",
              "      <th>lon</th>\n",
              "      <th>rooms</th>\n",
              "      <th>bathrooms</th>\n",
              "      <th>surface_total</th>\n",
              "      <th>surface_covered</th>\n",
              "      <th>price</th>\n",
              "      <th>barrio_Abasto</th>\n",
              "      <th>barrio_Agronomía</th>\n",
              "      <th>barrio_Almagro</th>\n",
              "      <th>...</th>\n",
              "      <th>barrio_Villa Lugano</th>\n",
              "      <th>barrio_Villa Luro</th>\n",
              "      <th>barrio_Villa Ortuzar</th>\n",
              "      <th>barrio_Villa Pueyrredón</th>\n",
              "      <th>barrio_Villa Real</th>\n",
              "      <th>barrio_Villa Riachuelo</th>\n",
              "      <th>barrio_Villa Santa Rita</th>\n",
              "      <th>barrio_Villa Soldati</th>\n",
              "      <th>barrio_Villa Urquiza</th>\n",
              "      <th>barrio_Villa del Parque</th>\n",
              "    </tr>\n",
              "  </thead>\n",
              "  <tbody>\n",
              "    <tr>\n",
              "      <th>6</th>\n",
              "      <td>-34.54307</td>\n",
              "      <td>-58.462586</td>\n",
              "      <td>1.0</td>\n",
              "      <td>1.0</td>\n",
              "      <td>44.0</td>\n",
              "      <td>38.0</td>\n",
              "      <td>147000.0</td>\n",
              "      <td>0</td>\n",
              "      <td>0</td>\n",
              "      <td>0</td>\n",
              "      <td>...</td>\n",
              "      <td>0</td>\n",
              "      <td>0</td>\n",
              "      <td>0</td>\n",
              "      <td>0</td>\n",
              "      <td>0</td>\n",
              "      <td>0</td>\n",
              "      <td>0</td>\n",
              "      <td>0</td>\n",
              "      <td>0</td>\n",
              "      <td>0</td>\n",
              "    </tr>\n",
              "    <tr>\n",
              "      <th>7</th>\n",
              "      <td>-34.60152</td>\n",
              "      <td>-58.424350</td>\n",
              "      <td>1.0</td>\n",
              "      <td>1.0</td>\n",
              "      <td>40.0</td>\n",
              "      <td>37.0</td>\n",
              "      <td>92294.0</td>\n",
              "      <td>0</td>\n",
              "      <td>0</td>\n",
              "      <td>1</td>\n",
              "      <td>...</td>\n",
              "      <td>0</td>\n",
              "      <td>0</td>\n",
              "      <td>0</td>\n",
              "      <td>0</td>\n",
              "      <td>0</td>\n",
              "      <td>0</td>\n",
              "      <td>0</td>\n",
              "      <td>0</td>\n",
              "      <td>0</td>\n",
              "      <td>0</td>\n",
              "    </tr>\n",
              "    <tr>\n",
              "      <th>8</th>\n",
              "      <td>-34.60152</td>\n",
              "      <td>-58.424350</td>\n",
              "      <td>1.0</td>\n",
              "      <td>1.0</td>\n",
              "      <td>49.0</td>\n",
              "      <td>44.0</td>\n",
              "      <td>115000.0</td>\n",
              "      <td>0</td>\n",
              "      <td>0</td>\n",
              "      <td>1</td>\n",
              "      <td>...</td>\n",
              "      <td>0</td>\n",
              "      <td>0</td>\n",
              "      <td>0</td>\n",
              "      <td>0</td>\n",
              "      <td>0</td>\n",
              "      <td>0</td>\n",
              "      <td>0</td>\n",
              "      <td>0</td>\n",
              "      <td>0</td>\n",
              "      <td>0</td>\n",
              "    </tr>\n",
              "    <tr>\n",
              "      <th>9</th>\n",
              "      <td>-34.60152</td>\n",
              "      <td>-58.424350</td>\n",
              "      <td>1.0</td>\n",
              "      <td>1.0</td>\n",
              "      <td>40.0</td>\n",
              "      <td>37.0</td>\n",
              "      <td>77000.0</td>\n",
              "      <td>0</td>\n",
              "      <td>0</td>\n",
              "      <td>1</td>\n",
              "      <td>...</td>\n",
              "      <td>0</td>\n",
              "      <td>0</td>\n",
              "      <td>0</td>\n",
              "      <td>0</td>\n",
              "      <td>0</td>\n",
              "      <td>0</td>\n",
              "      <td>0</td>\n",
              "      <td>0</td>\n",
              "      <td>0</td>\n",
              "      <td>0</td>\n",
              "    </tr>\n",
              "    <tr>\n",
              "      <th>10</th>\n",
              "      <td>-34.60152</td>\n",
              "      <td>-58.424350</td>\n",
              "      <td>1.0</td>\n",
              "      <td>1.0</td>\n",
              "      <td>40.0</td>\n",
              "      <td>37.0</td>\n",
              "      <td>88900.0</td>\n",
              "      <td>0</td>\n",
              "      <td>0</td>\n",
              "      <td>1</td>\n",
              "      <td>...</td>\n",
              "      <td>0</td>\n",
              "      <td>0</td>\n",
              "      <td>0</td>\n",
              "      <td>0</td>\n",
              "      <td>0</td>\n",
              "      <td>0</td>\n",
              "      <td>0</td>\n",
              "      <td>0</td>\n",
              "      <td>0</td>\n",
              "      <td>0</td>\n",
              "    </tr>\n",
              "  </tbody>\n",
              "</table>\n",
              "<p>5 rows × 64 columns</p>\n",
              "</div>"
            ],
            "text/plain": [
              "         lat        lon  rooms  bathrooms  surface_total  surface_covered  \\\n",
              "6  -34.54307 -58.462586    1.0        1.0           44.0             38.0   \n",
              "7  -34.60152 -58.424350    1.0        1.0           40.0             37.0   \n",
              "8  -34.60152 -58.424350    1.0        1.0           49.0             44.0   \n",
              "9  -34.60152 -58.424350    1.0        1.0           40.0             37.0   \n",
              "10 -34.60152 -58.424350    1.0        1.0           40.0             37.0   \n",
              "\n",
              "       price  barrio_Abasto  barrio_Agronomía  barrio_Almagro  ...  \\\n",
              "6   147000.0              0                 0               0  ...   \n",
              "7    92294.0              0                 0               1  ...   \n",
              "8   115000.0              0                 0               1  ...   \n",
              "9    77000.0              0                 0               1  ...   \n",
              "10   88900.0              0                 0               1  ...   \n",
              "\n",
              "    barrio_Villa Lugano  barrio_Villa Luro  barrio_Villa Ortuzar  \\\n",
              "6                     0                  0                     0   \n",
              "7                     0                  0                     0   \n",
              "8                     0                  0                     0   \n",
              "9                     0                  0                     0   \n",
              "10                    0                  0                     0   \n",
              "\n",
              "    barrio_Villa Pueyrredón  barrio_Villa Real  barrio_Villa Riachuelo  \\\n",
              "6                         0                  0                       0   \n",
              "7                         0                  0                       0   \n",
              "8                         0                  0                       0   \n",
              "9                         0                  0                       0   \n",
              "10                        0                  0                       0   \n",
              "\n",
              "    barrio_Villa Santa Rita  barrio_Villa Soldati  barrio_Villa Urquiza  \\\n",
              "6                         0                     0                     0   \n",
              "7                         0                     0                     0   \n",
              "8                         0                     0                     0   \n",
              "9                         0                     0                     0   \n",
              "10                        0                     0                     0   \n",
              "\n",
              "    barrio_Villa del Parque  \n",
              "6                         0  \n",
              "7                         0  \n",
              "8                         0  \n",
              "9                         0  \n",
              "10                        0  \n",
              "\n",
              "[5 rows x 64 columns]"
            ]
          },
          "execution_count": 123,
          "metadata": {},
          "output_type": "execute_result"
        }
      ],
      "source": [
        "data = pd.get_dummies(data)\n",
        "data.head()"
      ]
    },
    {
      "cell_type": "code",
      "execution_count": 124,
      "metadata": {},
      "outputs": [
        {
          "data": {
            "text/plain": [
              "(41887, 64)"
            ]
          },
          "execution_count": 124,
          "metadata": {},
          "output_type": "execute_result"
        }
      ],
      "source": [
        "# Veamos como nos aumentó el tamaño del input. Ahora tenemos 64 columnas\n",
        "data.shape"
      ]
    },
    {
      "attachments": {},
      "cell_type": "markdown",
      "metadata": {},
      "source": [
        "# Separando los datos\n",
        "A la red no vamos a querer pasarle como input los precios (va a ser muy fácil predecir así!)."
      ]
    },
    {
      "cell_type": "code",
      "execution_count": 125,
      "metadata": {
        "id": "Gyd5W_QZaxSM"
      },
      "outputs": [],
      "source": [
        "# Separo mis datos: quiero predecir el precio entonces saco esa columna\n",
        "data_input = data.drop(columns=\"price\") \n",
        "precios = data[\"price\"] "
      ]
    },
    {
      "attachments": {},
      "cell_type": "markdown",
      "metadata": {},
      "source": [
        "Tampoco vamos a pasarle todos los datos que tenemos, porque podría memorizarselos todos. Para ver si se está memorizando los datos específicos, lo que hacemos es separar nuestro Dataset en datos de entrenamiento (train) y de validación (test). Si a la red le va bien sobre los datos de entrenamiento pero no tanto en los de validación, probablemente se esté memorizando los de entrenamiento. Este problema se conoce como *overfitting*, y después vemos qué se puede hacer para solucionarlo."
      ]
    },
    {
      "cell_type": "code",
      "execution_count": 126,
      "metadata": {
        "id": "ZIY1XccIb2HV"
      },
      "outputs": [],
      "source": [
        "from sklearn.model_selection import train_test_split\n",
        "\n",
        "# test_size controla la proporción entre train/test. 0.2 quiere decir 20% de datos de prueba.\n",
        "x_train, x_test, y_train, y_test = train_test_split(data_input,precios,test_size=0.2)\n",
        "\n",
        "# x_train = input de entenamiento, \n",
        "# x_test = input de validación,\n",
        "# y_train = output de entrenamiento, etc..."
      ]
    },
    {
      "cell_type": "code",
      "execution_count": 127,
      "metadata": {
        "colab": {
          "base_uri": "https://localhost:8080/"
        },
        "id": "q3lK51rCc0iy",
        "outputId": "1ff62b8b-6ac8-48a3-bebf-c5d7b4304735"
      },
      "outputs": [
        {
          "data": {
            "text/plain": [
              "(33509, 63)"
            ]
          },
          "execution_count": 127,
          "metadata": {},
          "output_type": "execute_result"
        }
      ],
      "source": [
        "# Con cuantos datos vamos a estar entrenando? Nos parecen suficientes?\n",
        "x_train.shape"
      ]
    },
    {
      "cell_type": "code",
      "execution_count": 128,
      "metadata": {
        "id": "6Nq9YRZ9c2gi"
      },
      "outputs": [],
      "source": [
        "#Armado de red neuronal --> capas\n",
        "from tensorflow import keras\n",
        "\n",
        "modelo = keras.Sequential([\n",
        "    # 256 neuronas en esta capa, funcion de activacion (relu)\n",
        "    # tengo 63 inputs\n",
        "    keras.layers.Dense(256,activation =\"relu\",input_shape = (63,)), \n",
        "\n",
        "    keras.layers.Dense(128,activation = \"relu\"),\n",
        "    keras.layers.Dense(64,activation = \"relu\"),\n",
        "    keras.layers.Dense(16,activation = \"relu\"),\n",
        "\n",
        "    # La capa de salida debería tener una sola neurona porque estamos prediciendo una única variable\n",
        "    # OJO! La activación ReLU no permite valores negativos. En nuestro caso el precio no va a ser negativo, asi que no nos interesa.\n",
        "    # Si el output pudiera ser negativo, podemos usar \"linear\" (sin función de activación) para esta capa.\n",
        "    keras.layers.Dense(1,activation = \"relu\")\n",
        "])\n",
        "\n",
        "# Funcion de perdida: cuantifica qué tan malo es mi modelo \n",
        "# mse = mean square error\n",
        "# mae = mean absolute error\n",
        "# El optimizador define algunos parametros sobre como se hacen los pasos de entrenamiento. No le damos tanta bola.\n",
        "modelo.compile(optimizer=\"adam\", loss=\"mse\")  "
      ]
    },
    {
      "cell_type": "code",
      "execution_count": 129,
      "metadata": {
        "colab": {
          "base_uri": "https://localhost:8080/"
        },
        "id": "j0XvbyB_hmok",
        "outputId": "dcb64096-99bf-4d94-d197-1559ff3c9233"
      },
      "outputs": [
        {
          "name": "stdout",
          "output_type": "stream",
          "text": [
            "Model: \"sequential_7\"\n",
            "_________________________________________________________________\n",
            " Layer (type)                Output Shape              Param #   \n",
            "=================================================================\n",
            " dense_35 (Dense)            (None, 256)               16384     \n",
            "                                                                 \n",
            " dense_36 (Dense)            (None, 128)               32896     \n",
            "                                                                 \n",
            " dense_37 (Dense)            (None, 64)                8256      \n",
            "                                                                 \n",
            " dense_38 (Dense)            (None, 16)                1040      \n",
            "                                                                 \n",
            " dense_39 (Dense)            (None, 1)                 17        \n",
            "                                                                 \n",
            "=================================================================\n",
            "Total params: 58,593\n",
            "Trainable params: 58,593\n",
            "Non-trainable params: 0\n",
            "_________________________________________________________________\n"
          ]
        }
      ],
      "source": [
        "# Podemos hacer un resumen de nuestra red. Tiene 58.593 parametros en total\n",
        "modelo.summary()"
      ]
    },
    {
      "cell_type": "code",
      "execution_count": 130,
      "metadata": {},
      "outputs": [
        {
          "data": {
            "text/plain": [
              "[array([[-0.12542208,  0.11490375, -0.08095552, ...,  0.05185603,\n",
              "         -0.07987149, -0.12295874],\n",
              "        [ 0.05531847,  0.13080478, -0.09682834, ..., -0.03908843,\n",
              "          0.10942572,  0.07212672],\n",
              "        [-0.08150351, -0.01679867,  0.07816456, ..., -0.02853029,\n",
              "          0.04134773,  0.0596378 ],\n",
              "        ...,\n",
              "        [-0.01568412, -0.03647338,  0.12410489, ..., -0.10032755,\n",
              "         -0.00934389,  0.08094908],\n",
              "        [ 0.036167  , -0.01393743,  0.07727799, ..., -0.10196735,\n",
              "          0.00361525,  0.01559865],\n",
              "        [ 0.12992457, -0.00576089, -0.08216711, ..., -0.07042211,\n",
              "          0.08340783,  0.11001416]], dtype=float32),\n",
              " array([0., 0., 0., 0., 0., 0., 0., 0., 0., 0., 0., 0., 0., 0., 0., 0., 0.,\n",
              "        0., 0., 0., 0., 0., 0., 0., 0., 0., 0., 0., 0., 0., 0., 0., 0., 0.,\n",
              "        0., 0., 0., 0., 0., 0., 0., 0., 0., 0., 0., 0., 0., 0., 0., 0., 0.,\n",
              "        0., 0., 0., 0., 0., 0., 0., 0., 0., 0., 0., 0., 0., 0., 0., 0., 0.,\n",
              "        0., 0., 0., 0., 0., 0., 0., 0., 0., 0., 0., 0., 0., 0., 0., 0., 0.,\n",
              "        0., 0., 0., 0., 0., 0., 0., 0., 0., 0., 0., 0., 0., 0., 0., 0., 0.,\n",
              "        0., 0., 0., 0., 0., 0., 0., 0., 0., 0., 0., 0., 0., 0., 0., 0., 0.,\n",
              "        0., 0., 0., 0., 0., 0., 0., 0., 0., 0., 0., 0., 0., 0., 0., 0., 0.,\n",
              "        0., 0., 0., 0., 0., 0., 0., 0., 0., 0., 0., 0., 0., 0., 0., 0., 0.,\n",
              "        0., 0., 0., 0., 0., 0., 0., 0., 0., 0., 0., 0., 0., 0., 0., 0., 0.,\n",
              "        0., 0., 0., 0., 0., 0., 0., 0., 0., 0., 0., 0., 0., 0., 0., 0., 0.,\n",
              "        0., 0., 0., 0., 0., 0., 0., 0., 0., 0., 0., 0., 0., 0., 0., 0., 0.,\n",
              "        0., 0., 0., 0., 0., 0., 0., 0., 0., 0., 0., 0., 0., 0., 0., 0., 0.,\n",
              "        0., 0., 0., 0., 0., 0., 0., 0., 0., 0., 0., 0., 0., 0., 0., 0., 0.,\n",
              "        0., 0., 0., 0., 0., 0., 0., 0., 0., 0., 0., 0., 0., 0., 0., 0., 0.,\n",
              "        0.], dtype=float32),\n",
              " array([[ 0.04650357, -0.08676201, -0.08922249, ...,  0.02410015,\n",
              "         -0.1098631 , -0.1129753 ],\n",
              "        [ 0.05862832, -0.11325303, -0.11667275, ..., -0.11806926,\n",
              "         -0.01143414,  0.05568373],\n",
              "        [ 0.05421302,  0.04430607, -0.1068722 , ..., -0.11068961,\n",
              "         -0.01785392,  0.10513413],\n",
              "        ...,\n",
              "        [ 0.12250611, -0.06873336, -0.01032645, ...,  0.07932219,\n",
              "          0.08921754,  0.08668244],\n",
              "        [ 0.04962167, -0.00306776,  0.11564976, ...,  0.11916554,\n",
              "         -0.0866299 ,  0.03932559],\n",
              "        [-0.11853126, -0.12089369,  0.0574365 , ...,  0.0386489 ,\n",
              "          0.10856718, -0.01712865]], dtype=float32),\n",
              " array([0., 0., 0., 0., 0., 0., 0., 0., 0., 0., 0., 0., 0., 0., 0., 0., 0.,\n",
              "        0., 0., 0., 0., 0., 0., 0., 0., 0., 0., 0., 0., 0., 0., 0., 0., 0.,\n",
              "        0., 0., 0., 0., 0., 0., 0., 0., 0., 0., 0., 0., 0., 0., 0., 0., 0.,\n",
              "        0., 0., 0., 0., 0., 0., 0., 0., 0., 0., 0., 0., 0., 0., 0., 0., 0.,\n",
              "        0., 0., 0., 0., 0., 0., 0., 0., 0., 0., 0., 0., 0., 0., 0., 0., 0.,\n",
              "        0., 0., 0., 0., 0., 0., 0., 0., 0., 0., 0., 0., 0., 0., 0., 0., 0.,\n",
              "        0., 0., 0., 0., 0., 0., 0., 0., 0., 0., 0., 0., 0., 0., 0., 0., 0.,\n",
              "        0., 0., 0., 0., 0., 0., 0., 0., 0.], dtype=float32),\n",
              " array([[-0.16074255,  0.00569265, -0.1503628 , ..., -0.00464939,\n",
              "          0.14535113,  0.1249332 ],\n",
              "        [ 0.05918534, -0.1607799 , -0.11739516, ...,  0.11343662,\n",
              "         -0.1390258 ,  0.08025835],\n",
              "        [-0.04376432,  0.13726626, -0.15495574, ..., -0.11599904,\n",
              "         -0.04354714, -0.07765413],\n",
              "        ...,\n",
              "        [-0.07469437,  0.06307882,  0.10794811, ...,  0.162068  ,\n",
              "         -0.10815897, -0.02065612],\n",
              "        [ 0.10495196, -0.1277084 , -0.17381406, ..., -0.17430769,\n",
              "         -0.13462934, -0.06952194],\n",
              "        [ 0.13091208,  0.0650865 , -0.15310268, ...,  0.02997778,\n",
              "          0.10047637,  0.06956093]], dtype=float32),\n",
              " array([0., 0., 0., 0., 0., 0., 0., 0., 0., 0., 0., 0., 0., 0., 0., 0., 0.,\n",
              "        0., 0., 0., 0., 0., 0., 0., 0., 0., 0., 0., 0., 0., 0., 0., 0., 0.,\n",
              "        0., 0., 0., 0., 0., 0., 0., 0., 0., 0., 0., 0., 0., 0., 0., 0., 0.,\n",
              "        0., 0., 0., 0., 0., 0., 0., 0., 0., 0., 0., 0., 0.], dtype=float32),\n",
              " array([[ 0.26328313, -0.04062106, -0.20805845, ..., -0.10626236,\n",
              "         -0.24172762,  0.0172061 ],\n",
              "        [ 0.07253435,  0.13739115,  0.07930166, ...,  0.10081336,\n",
              "          0.1949853 ,  0.23651874],\n",
              "        [-0.22492659, -0.05381592, -0.02967504, ...,  0.08133933,\n",
              "          0.2253316 ,  0.19515598],\n",
              "        ...,\n",
              "        [-0.11020982, -0.02748816, -0.04327726, ...,  0.2445004 ,\n",
              "         -0.13236825,  0.11024612],\n",
              "        [ 0.13858023, -0.04851362, -0.16986024, ..., -0.2303811 ,\n",
              "          0.26419973,  0.10748127],\n",
              "        [ 0.11606666,  0.2373513 ,  0.11964417, ...,  0.01141998,\n",
              "         -0.2588365 , -0.03793813]], dtype=float32),\n",
              " array([0., 0., 0., 0., 0., 0., 0., 0., 0., 0., 0., 0., 0., 0., 0., 0.],\n",
              "       dtype=float32),\n",
              " array([[ 0.25828022],\n",
              "        [ 0.46529353],\n",
              "        [ 0.11580956],\n",
              "        [ 0.5585172 ],\n",
              "        [ 0.16330117],\n",
              "        [ 0.03117692],\n",
              "        [ 0.29495692],\n",
              "        [-0.4536152 ],\n",
              "        [ 0.21218258],\n",
              "        [-0.44690564],\n",
              "        [ 0.22451675],\n",
              "        [-0.00918531],\n",
              "        [ 0.32120568],\n",
              "        [-0.22435996],\n",
              "        [-0.5671892 ],\n",
              "        [-0.3929516 ]], dtype=float32),\n",
              " array([0.], dtype=float32)]"
            ]
          },
          "execution_count": 130,
          "metadata": {},
          "output_type": "execute_result"
        }
      ],
      "source": [
        "# Vemos que el modelo arranca con pesos aleatorios y sesgos en 0\n",
        "modelo.get_weights()"
      ]
    },
    {
      "cell_type": "code",
      "execution_count": 131,
      "metadata": {
        "colab": {
          "base_uri": "https://localhost:8080/"
        },
        "id": "7jhRVQcWiDUX",
        "outputId": "def7926b-70ff-4fd3-fbd1-572d81cf6248"
      },
      "outputs": [
        {
          "name": "stdout",
          "output_type": "stream",
          "text": [
            "Epoch 1/10\n",
            "1048/1048 [==============================] - 4s 3ms/step - loss: 50774736896.0000\n",
            "Epoch 2/10\n",
            "1048/1048 [==============================] - 4s 3ms/step - loss: 23841216512.0000\n",
            "Epoch 3/10\n",
            "1048/1048 [==============================] - 4s 3ms/step - loss: 12734630912.0000\n",
            "Epoch 4/10\n",
            "1048/1048 [==============================] - 3s 3ms/step - loss: 11856100352.0000\n",
            "Epoch 5/10\n",
            "1048/1048 [==============================] - 3s 3ms/step - loss: 11304057856.0000\n",
            "Epoch 6/10\n",
            "1048/1048 [==============================] - 3s 3ms/step - loss: 10933761024.0000\n",
            "Epoch 7/10\n",
            "1048/1048 [==============================] - 3s 3ms/step - loss: 10493075456.0000\n",
            "Epoch 8/10\n",
            "1048/1048 [==============================] - 3s 3ms/step - loss: 10061315072.0000\n",
            "Epoch 9/10\n",
            "1048/1048 [==============================] - 3s 3ms/step - loss: 9826893824.0000\n",
            "Epoch 10/10\n",
            "1048/1048 [==============================] - 3s 3ms/step - loss: 9576416256.0000\n"
          ]
        }
      ],
      "source": [
        "# le digo que entrene. Epochs es la cantidad de pasos de entrenamiento\n",
        "historial = modelo.fit(x_train, y_train, epochs=10)"
      ]
    },
    {
      "cell_type": "code",
      "execution_count": 132,
      "metadata": {
        "colab": {
          "base_uri": "https://localhost:8080/",
          "height": 293
        },
        "id": "6dzJdO6_jih_",
        "outputId": "f4735709-bd7d-4b23-e1d1-9da8952412d7"
      },
      "outputs": [
        {
          "data": {
            "image/png": "[encoded data removed]",
            "text/plain": [
              "<Figure size 640x480 with 1 Axes>"
            ]
          },
          "metadata": {},
          "output_type": "display_data"
        }
      ],
      "source": [
        "# En la variable historial me quedó la pérdida del modelo a lo largo del entrenamiento\n",
        "plt.plot(historial.history[\"loss\"])\n",
        "plt.show()"
      ]
    },
    {
      "cell_type": "code",
      "execution_count": 133,
      "metadata": {},
      "outputs": [
        {
          "data": {
            "text/plain": [
              "array([225332.50297283, 154406.01190368, 112847.82191961, 108885.72152491,\n",
              "       106320.54296325, 104564.62606446, 102435.7137721 , 100306.10685297,\n",
              "        99130.69062606,  97859.16541643])"
            ]
          },
          "execution_count": 133,
          "metadata": {},
          "output_type": "execute_result"
        }
      ],
      "source": [
        "# Para ver cuanto error tenemos en promedio, le tomamos raiz cuadrada al error cuadrático medio\n",
        "# Anda en 98.000 dolares\n",
        "import numpy as np\n",
        "np.sqrt(historial.history[\"loss\"])"
      ]
    },
    {
      "cell_type": "code",
      "execution_count": 134,
      "metadata": {
        "colab": {
          "base_uri": "https://localhost:8080/",
          "height": 295
        },
        "id": "oygHN60RjxXl",
        "outputId": "7b351ed9-c455-4f14-f7fd-8d2bfe45ec69"
      },
      "outputs": [
        {
          "name": "stdout",
          "output_type": "stream",
          "text": [
            "262/262 [==============================] - 1s 2ms/step\n"
          ]
        },
        {
          "data": {
            "image/png": "[encoded data removed]",
            "text/plain": [
              "<Figure size 640x480 with 1 Axes>"
            ]
          },
          "metadata": {},
          "output_type": "display_data"
        }
      ],
      "source": [
        "# Puedo usar el modelo para predecir el valor de casas en el set de validación\n",
        "y_pred = modelo.predict(x_test)\n",
        "\n",
        "# Y después graficarlo junto a los precios \n",
        "plt.hist(y_pred, bins=30,alpha=0.7, color=\"royalblue\") #predicción\n",
        "plt.hist(y_test, bins=30,alpha=0.7, color=\"orange\")    #precios reales\n",
        "plt.show()"
      ]
    },
    {
      "attachments": {},
      "cell_type": "markdown",
      "metadata": {},
      "source": [
        "# Mejorando la Red\n",
        "Algo que notamos del último gráfico es que la distribución de precios es muy despareja, y un par de precios altos pueden estar corriendonos los promedios para arriba"
      ]
    },
    {
      "cell_type": "code",
      "execution_count": 135,
      "metadata": {
        "colab": {
          "base_uri": "https://localhost:8080/"
        },
        "id": "b87uXWJSmsaB",
        "outputId": "3929aac6-58c3-4410-ce88-2bbe4c095b80"
      },
      "outputs": [
        {
          "name": "stdout",
          "output_type": "stream",
          "text": [
            "Epoch 1/10\n",
            "1048/1048 [==============================] - 4s 3ms/step - loss: 49056.4727\n",
            "Epoch 2/10\n",
            "1048/1048 [==============================] - 3s 3ms/step - loss: 47569.1094\n",
            "Epoch 3/10\n",
            "1048/1048 [==============================] - 3s 3ms/step - loss: 46547.6914\n",
            "Epoch 4/10\n",
            "1048/1048 [==============================] - 3s 3ms/step - loss: 46456.8125\n",
            "Epoch 5/10\n",
            "1048/1048 [==============================] - 3s 3ms/step - loss: 46141.3281\n",
            "Epoch 6/10\n",
            "1048/1048 [==============================] - 3s 3ms/step - loss: 45882.2539\n",
            "Epoch 7/10\n",
            "1048/1048 [==============================] - 3s 3ms/step - loss: 45626.2422\n",
            "Epoch 8/10\n",
            "1048/1048 [==============================] - 4s 4ms/step - loss: 45638.1992\n",
            "Epoch 9/10\n",
            "1048/1048 [==============================] - 4s 3ms/step - loss: 45621.5742\n",
            "Epoch 10/10\n",
            "1048/1048 [==============================] - 4s 4ms/step - loss: 45325.0781\n"
          ]
        }
      ],
      "source": [
        "# Probamos cambiar mse por mae. No elevo al cuadrado\n",
        "# Ahora los errores grandes, generalmente causado por las propiedades más caras, no afectan tanto a la pérdida\n",
        "# Ahora el error medio es de 45 mil dolares\n",
        "modelo2 = keras.Sequential([\n",
        "    keras.layers.Dense(256,activation =\"relu\",input_shape = (63,)),\n",
        "    keras.layers.Dense(128,activation = \"relu\"),\n",
        "    keras.layers.Dense(64,activation = \"relu\"),\n",
        "    keras.layers.Dense(16,activation = \"relu\"),\n",
        "    keras.layers.Dense(1,activation = \"relu\")\n",
        "])\n",
        "\n",
        "modelo.compile(optimizer=\"adam\", loss=\"mae\")\n",
        "historial2 = modelo.fit(x_train, y_train, epochs=10)\n"
      ]
    },
    {
      "attachments": {},
      "cell_type": "markdown",
      "metadata": {},
      "source": [
        "Para ver mejor la distribución de precios, podemos usar un boxplot:\n",
        "https://es.wikipedia.org/wiki/Diagrama_de_caja"
      ]
    },
    {
      "cell_type": "code",
      "execution_count": 136,
      "metadata": {
        "colab": {
          "base_uri": "https://localhost:8080/",
          "height": 276
        },
        "id": "4kbNNzq6orHm",
        "outputId": "55afb758-11b4-4a6a-c835-9361d3424e2f"
      },
      "outputs": [
        {
          "data": {
            "image/png": "[encoded data removed]",
            "text/plain": [
              "<Figure size 640x480 with 1 Axes>"
            ]
          },
          "metadata": {},
          "output_type": "display_data"
        }
      ],
      "source": [
        "plt.boxplot(precios)\n",
        "plt.show() \n",
        "# y = millones de dolares\n",
        "# Linea naranja: mediana (separa los datos en 50%) --> la mitad de las propiedades esta por debajo de los 250.000 dolares\n",
        "# Bordes inferior y superior de la caja: 1º cuartil y 3º cuartil (separa los datos en 25%). \n",
        "# Los puntos son \"outliers\", valores que están muy alejados del resto"
      ]
    },
    {
      "cell_type": "code",
      "execution_count": 137,
      "metadata": {
        "colab": {
          "base_uri": "https://localhost:8080/",
          "height": 265
        },
        "id": "ps-ir992ou_Q",
        "outputId": "c4ca88bc-3f20-48d5-db63-9ca94386ae3d"
      },
      "outputs": [
        {
          "data": {
            "image/png": "[encoded data removed]",
            "text/plain": [
              "<Figure size 640x480 with 1 Axes>"
            ]
          },
          "metadata": {},
          "output_type": "display_data"
        }
      ],
      "source": [
        "# Saco a los outliers usando el rango interquartil (magia rara de los estadistas)\n",
        "q1 = precios.quantile(0.25)\n",
        "q3 = precios.quantile(0.75)\n",
        "rango = q3 - q1\n",
        "\n",
        "umbral_arriba = q3 + 1.5*rango\n",
        "umbral_abajo = q1 - 1.5*rango\n",
        "\n",
        "sin_outliers = data[(data[\"price\"]>umbral_abajo) & (data[\"price\"]<umbral_arriba)]\n",
        "\n",
        "plt.boxplot(sin_outliers[\"price\"])\n",
        "plt.show()"
      ]
    },
    {
      "cell_type": "code",
      "execution_count": 138,
      "metadata": {
        "id": "kw67fpBKq4FX"
      },
      "outputs": [],
      "source": [
        "# Vuelvo a separar los datos, pero ahora con el dataset limpiado de outliers\n",
        "\n",
        "sin_outliers_input = sin_outliers.drop(columns=\"price\")\n",
        "precios_sin_outliers = sin_outliers[\"price\"]\n",
        "x_train, x_test, y_train, y_test = train_test_split(sin_outliers_input,precios_sin_outliers,test_size=0.2)"
      ]
    },
    {
      "cell_type": "code",
      "execution_count": 139,
      "metadata": {
        "colab": {
          "base_uri": "https://localhost:8080/"
        },
        "id": "4stc5jRKtOI7",
        "outputId": "d0681e28-864c-4e55-b53d-6c062321766f"
      },
      "outputs": [
        {
          "name": "stdout",
          "output_type": "stream",
          "text": [
            "Epoch 1/10\n",
            "958/958 [==============================] - 4s 3ms/step - loss: 27854.5957\n",
            "Epoch 2/10\n",
            "958/958 [==============================] - 3s 3ms/step - loss: 27731.2695\n",
            "Epoch 3/10\n",
            "958/958 [==============================] - 4s 4ms/step - loss: 27637.4277\n",
            "Epoch 4/10\n",
            "958/958 [==============================] - 3s 3ms/step - loss: 27456.1504\n",
            "Epoch 5/10\n",
            "958/958 [==============================] - 3s 3ms/step - loss: 27439.1777\n",
            "Epoch 6/10\n",
            "958/958 [==============================] - 3s 3ms/step - loss: 27366.0938\n",
            "Epoch 7/10\n",
            "958/958 [==============================] - 3s 3ms/step - loss: 27225.0469\n",
            "Epoch 8/10\n",
            "958/958 [==============================] - 3s 3ms/step - loss: 27330.1914\n",
            "Epoch 9/10\n",
            "958/958 [==============================] - 3s 3ms/step - loss: 27398.8301\n",
            "Epoch 10/10\n",
            "958/958 [==============================] - 3s 3ms/step - loss: 27311.2949\n"
          ]
        }
      ],
      "source": [
        "#mejoro la prediccion --> 27000 dolares de error\n",
        "modelo3 = keras.Sequential([\n",
        "    keras.layers.Dense(256,activation =\"relu\",input_shape = (63,)),\n",
        "    keras.layers.Dense(128,activation = \"relu\"),\n",
        "    keras.layers.Dense(64,activation = \"relu\"),\n",
        "    keras.layers.Dense(16,activation = \"relu\"),\n",
        "    keras.layers.Dense(1,activation = \"relu\")\n",
        "])\n",
        "\n",
        "modelo3.compile(optimizer=\"adam\", loss=\"mae\")\n",
        "historial3 = modelo3.fit(x_train, y_train, epochs=10)"
      ]
    }
  ],
  "metadata": {
    "colab": {
      "provenance": []
    },
    "kernelspec": {
      "display_name": "Python 3",
      "language": "python",
      "name": "python3"
    },
    "language_info": {
      "codemirror_mode": {
        "name": "ipython",
        "version": 3
      },
      "file_extension": ".py",
      "mimetype": "text/x-python",
      "name": "python",
      "nbconvert_exporter": "python",
      "pygments_lexer": "ipython3",
      "version": "3.10.0"
    },
    "vscode": {
      "interpreter": {
        "hash": "7e1998ff7f8aa20ada591c520b972326324e5ea05489af9e422744c7c09f6dad"
      }
    }
  },
  "nbformat": 4,
  "nbformat_minor": 0
}
