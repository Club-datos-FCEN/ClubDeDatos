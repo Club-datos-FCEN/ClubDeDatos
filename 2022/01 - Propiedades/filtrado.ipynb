{
 "cells": [
  {
   "cell_type": "code",
   "execution_count": 37,
   "metadata": {},
   "outputs": [],
   "source": [
    "import pandas as pd"
   ]
  },
  {
   "cell_type": "code",
   "execution_count": 38,
   "metadata": {},
   "outputs": [
    {
     "data": {
      "text/html": [
       "<div>\n",
       "<style scoped>\n",
       "    .dataframe tbody tr th:only-of-type {\n",
       "        vertical-align: middle;\n",
       "    }\n",
       "\n",
       "    .dataframe tbody tr th {\n",
       "        vertical-align: top;\n",
       "    }\n",
       "\n",
       "    .dataframe thead th {\n",
       "        text-align: right;\n",
       "    }\n",
       "</style>\n",
       "<table border=\"1\" class=\"dataframe\">\n",
       "  <thead>\n",
       "    <tr style=\"text-align: right;\">\n",
       "      <th></th>\n",
       "      <th>id</th>\n",
       "      <th>ad_type</th>\n",
       "      <th>start_date</th>\n",
       "      <th>end_date</th>\n",
       "      <th>created_on</th>\n",
       "      <th>lat</th>\n",
       "      <th>lon</th>\n",
       "      <th>l1</th>\n",
       "      <th>l2</th>\n",
       "      <th>l3</th>\n",
       "      <th>...</th>\n",
       "      <th>bedrooms</th>\n",
       "      <th>bathrooms</th>\n",
       "      <th>surface_total</th>\n",
       "      <th>surface_covered</th>\n",
       "      <th>price</th>\n",
       "      <th>currency</th>\n",
       "      <th>price_period</th>\n",
       "      <th>title</th>\n",
       "      <th>property_type</th>\n",
       "      <th>operation_type</th>\n",
       "    </tr>\n",
       "  </thead>\n",
       "  <tbody>\n",
       "    <tr>\n",
       "      <th>0</th>\n",
       "      <td>S0we3z3V2JpHUJreqQ2t/w==</td>\n",
       "      <td>Propiedad</td>\n",
       "      <td>2019-04-14</td>\n",
       "      <td>2019-06-14</td>\n",
       "      <td>2019-04-14</td>\n",
       "      <td>-34.943312</td>\n",
       "      <td>-54.929656</td>\n",
       "      <td>Uruguay</td>\n",
       "      <td>Maldonado</td>\n",
       "      <td>Punta del Este</td>\n",
       "      <td>...</td>\n",
       "      <td>NaN</td>\n",
       "      <td>1.0</td>\n",
       "      <td>45.0</td>\n",
       "      <td>40.0</td>\n",
       "      <td>13000.0</td>\n",
       "      <td>UYU</td>\n",
       "      <td>Mensual</td>\n",
       "      <td>Departamento - Roosevelt</td>\n",
       "      <td>Departamento</td>\n",
       "      <td>Alquiler</td>\n",
       "    </tr>\n",
       "    <tr>\n",
       "      <th>1</th>\n",
       "      <td>kMxcmAS8NvrynGBVbMOEaQ==</td>\n",
       "      <td>Propiedad</td>\n",
       "      <td>2019-04-14</td>\n",
       "      <td>2019-04-16</td>\n",
       "      <td>2019-04-14</td>\n",
       "      <td>-34.631810</td>\n",
       "      <td>-58.420599</td>\n",
       "      <td>Argentina</td>\n",
       "      <td>Capital Federal</td>\n",
       "      <td>Boedo</td>\n",
       "      <td>...</td>\n",
       "      <td>NaN</td>\n",
       "      <td>NaN</td>\n",
       "      <td>NaN</td>\n",
       "      <td>NaN</td>\n",
       "      <td>0.0</td>\n",
       "      <td>NaN</td>\n",
       "      <td>Mensual</td>\n",
       "      <td>PH - Boedo</td>\n",
       "      <td>PH</td>\n",
       "      <td>Venta</td>\n",
       "    </tr>\n",
       "    <tr>\n",
       "      <th>2</th>\n",
       "      <td>Ce3ojF+ZTOkB8d+LI9dpxg==</td>\n",
       "      <td>Propiedad</td>\n",
       "      <td>2019-04-14</td>\n",
       "      <td>9999-12-31</td>\n",
       "      <td>2019-04-14</td>\n",
       "      <td>NaN</td>\n",
       "      <td>NaN</td>\n",
       "      <td>Argentina</td>\n",
       "      <td>Bs.As. G.B.A. Zona Norte</td>\n",
       "      <td>NaN</td>\n",
       "      <td>...</td>\n",
       "      <td>NaN</td>\n",
       "      <td>1.0</td>\n",
       "      <td>200.0</td>\n",
       "      <td>NaN</td>\n",
       "      <td>NaN</td>\n",
       "      <td>NaN</td>\n",
       "      <td>NaN</td>\n",
       "      <td>Ituzaingo  1100 - $ 1 - Casa Alquiler</td>\n",
       "      <td>Casa</td>\n",
       "      <td>Alquiler</td>\n",
       "    </tr>\n",
       "    <tr>\n",
       "      <th>3</th>\n",
       "      <td>AUGpj3raGmOCiulSMGIBPA==</td>\n",
       "      <td>Propiedad</td>\n",
       "      <td>2019-04-14</td>\n",
       "      <td>9999-12-31</td>\n",
       "      <td>2019-04-14</td>\n",
       "      <td>-34.654705</td>\n",
       "      <td>-58.790894</td>\n",
       "      <td>Argentina</td>\n",
       "      <td>Bs.As. G.B.A. Zona Oeste</td>\n",
       "      <td>Moreno</td>\n",
       "      <td>...</td>\n",
       "      <td>NaN</td>\n",
       "      <td>2.0</td>\n",
       "      <td>460.0</td>\n",
       "      <td>100.0</td>\n",
       "      <td>NaN</td>\n",
       "      <td>NaN</td>\n",
       "      <td>Mensual</td>\n",
       "      <td>Dr. Vera   300 - Consulte precio - Casa en Venta</td>\n",
       "      <td>Casa</td>\n",
       "      <td>Venta</td>\n",
       "    </tr>\n",
       "    <tr>\n",
       "      <th>4</th>\n",
       "      <td>m+MwZmJl3OoxmfWcB//sBA==</td>\n",
       "      <td>Propiedad</td>\n",
       "      <td>2019-04-14</td>\n",
       "      <td>2019-07-09</td>\n",
       "      <td>2019-04-14</td>\n",
       "      <td>-34.654949</td>\n",
       "      <td>-58.787117</td>\n",
       "      <td>Argentina</td>\n",
       "      <td>Bs.As. G.B.A. Zona Oeste</td>\n",
       "      <td>Moreno</td>\n",
       "      <td>...</td>\n",
       "      <td>NaN</td>\n",
       "      <td>3.0</td>\n",
       "      <td>660.0</td>\n",
       "      <td>148.0</td>\n",
       "      <td>NaN</td>\n",
       "      <td>NaN</td>\n",
       "      <td>Mensual</td>\n",
       "      <td>L. N. Alem   2400 - Consulte precio - Casa en ...</td>\n",
       "      <td>Casa</td>\n",
       "      <td>Venta</td>\n",
       "    </tr>\n",
       "  </tbody>\n",
       "</table>\n",
       "<p>5 rows × 24 columns</p>\n",
       "</div>"
      ],
      "text/plain": [
       "                         id    ad_type  start_date    end_date  created_on  \\\n",
       "0  S0we3z3V2JpHUJreqQ2t/w==  Propiedad  2019-04-14  2019-06-14  2019-04-14   \n",
       "1  kMxcmAS8NvrynGBVbMOEaQ==  Propiedad  2019-04-14  2019-04-16  2019-04-14   \n",
       "2  Ce3ojF+ZTOkB8d+LI9dpxg==  Propiedad  2019-04-14  9999-12-31  2019-04-14   \n",
       "3  AUGpj3raGmOCiulSMGIBPA==  Propiedad  2019-04-14  9999-12-31  2019-04-14   \n",
       "4  m+MwZmJl3OoxmfWcB//sBA==  Propiedad  2019-04-14  2019-07-09  2019-04-14   \n",
       "\n",
       "         lat        lon         l1                        l2              l3  \\\n",
       "0 -34.943312 -54.929656    Uruguay                 Maldonado  Punta del Este   \n",
       "1 -34.631810 -58.420599  Argentina           Capital Federal           Boedo   \n",
       "2        NaN        NaN  Argentina  Bs.As. G.B.A. Zona Norte             NaN   \n",
       "3 -34.654705 -58.790894  Argentina  Bs.As. G.B.A. Zona Oeste          Moreno   \n",
       "4 -34.654949 -58.787117  Argentina  Bs.As. G.B.A. Zona Oeste          Moreno   \n",
       "\n",
       "   ... bedrooms bathrooms  surface_total  surface_covered    price  currency  \\\n",
       "0  ...      NaN       1.0           45.0             40.0  13000.0       UYU   \n",
       "1  ...      NaN       NaN            NaN              NaN      0.0       NaN   \n",
       "2  ...      NaN       1.0          200.0              NaN      NaN       NaN   \n",
       "3  ...      NaN       2.0          460.0            100.0      NaN       NaN   \n",
       "4  ...      NaN       3.0          660.0            148.0      NaN       NaN   \n",
       "\n",
       "   price_period                                              title  \\\n",
       "0       Mensual                           Departamento - Roosevelt   \n",
       "1       Mensual                                         PH - Boedo   \n",
       "2           NaN              Ituzaingo  1100 - $ 1 - Casa Alquiler   \n",
       "3       Mensual   Dr. Vera   300 - Consulte precio - Casa en Venta   \n",
       "4       Mensual  L. N. Alem   2400 - Consulte precio - Casa en ...   \n",
       "\n",
       "   property_type operation_type  \n",
       "0   Departamento       Alquiler  \n",
       "1             PH          Venta  \n",
       "2           Casa       Alquiler  \n",
       "3           Casa          Venta  \n",
       "4           Casa          Venta  \n",
       "\n",
       "[5 rows x 24 columns]"
      ]
     },
     "execution_count": 38,
     "metadata": {},
     "output_type": "execute_result"
    }
   ],
   "source": [
    "data = pd.read_csv(\"ar_properties.csv\")\n",
    "data.head()"
   ]
  },
  {
   "cell_type": "code",
   "execution_count": 39,
   "metadata": {},
   "outputs": [
    {
     "data": {
      "text/html": [
       "<div>\n",
       "<style scoped>\n",
       "    .dataframe tbody tr th:only-of-type {\n",
       "        vertical-align: middle;\n",
       "    }\n",
       "\n",
       "    .dataframe tbody tr th {\n",
       "        vertical-align: top;\n",
       "    }\n",
       "\n",
       "    .dataframe thead th {\n",
       "        text-align: right;\n",
       "    }\n",
       "</style>\n",
       "<table border=\"1\" class=\"dataframe\">\n",
       "  <thead>\n",
       "    <tr style=\"text-align: right;\">\n",
       "      <th></th>\n",
       "      <th>ad_type</th>\n",
       "      <th>start_date</th>\n",
       "      <th>end_date</th>\n",
       "      <th>created_on</th>\n",
       "      <th>lat</th>\n",
       "      <th>lon</th>\n",
       "      <th>l3</th>\n",
       "      <th>rooms</th>\n",
       "      <th>bedrooms</th>\n",
       "      <th>bathrooms</th>\n",
       "      <th>surface_total</th>\n",
       "      <th>surface_covered</th>\n",
       "      <th>price</th>\n",
       "      <th>currency</th>\n",
       "      <th>price_period</th>\n",
       "      <th>property_type</th>\n",
       "      <th>operation_type</th>\n",
       "    </tr>\n",
       "  </thead>\n",
       "  <tbody>\n",
       "    <tr>\n",
       "      <th>1</th>\n",
       "      <td>Propiedad</td>\n",
       "      <td>2019-04-14</td>\n",
       "      <td>2019-04-16</td>\n",
       "      <td>2019-04-14</td>\n",
       "      <td>-34.631810</td>\n",
       "      <td>-58.420599</td>\n",
       "      <td>Boedo</td>\n",
       "      <td>NaN</td>\n",
       "      <td>NaN</td>\n",
       "      <td>NaN</td>\n",
       "      <td>NaN</td>\n",
       "      <td>NaN</td>\n",
       "      <td>0.0</td>\n",
       "      <td>NaN</td>\n",
       "      <td>Mensual</td>\n",
       "      <td>PH</td>\n",
       "      <td>Venta</td>\n",
       "    </tr>\n",
       "    <tr>\n",
       "      <th>8</th>\n",
       "      <td>Propiedad</td>\n",
       "      <td>2019-04-14</td>\n",
       "      <td>2019-04-29</td>\n",
       "      <td>2019-04-14</td>\n",
       "      <td>-34.603375</td>\n",
       "      <td>-58.434498</td>\n",
       "      <td>Almagro</td>\n",
       "      <td>NaN</td>\n",
       "      <td>NaN</td>\n",
       "      <td>NaN</td>\n",
       "      <td>1300.0</td>\n",
       "      <td>NaN</td>\n",
       "      <td>0.0</td>\n",
       "      <td>NaN</td>\n",
       "      <td>Mensual</td>\n",
       "      <td>Lote</td>\n",
       "      <td>Venta</td>\n",
       "    </tr>\n",
       "    <tr>\n",
       "      <th>10</th>\n",
       "      <td>Propiedad</td>\n",
       "      <td>2019-04-14</td>\n",
       "      <td>2019-04-29</td>\n",
       "      <td>2019-04-14</td>\n",
       "      <td>-34.590053</td>\n",
       "      <td>-58.436722</td>\n",
       "      <td>Palermo</td>\n",
       "      <td>NaN</td>\n",
       "      <td>NaN</td>\n",
       "      <td>NaN</td>\n",
       "      <td>352.0</td>\n",
       "      <td>NaN</td>\n",
       "      <td>0.0</td>\n",
       "      <td>NaN</td>\n",
       "      <td>Mensual</td>\n",
       "      <td>Lote</td>\n",
       "      <td>Venta</td>\n",
       "    </tr>\n",
       "    <tr>\n",
       "      <th>16</th>\n",
       "      <td>Propiedad</td>\n",
       "      <td>2019-04-14</td>\n",
       "      <td>2019-04-29</td>\n",
       "      <td>2019-04-14</td>\n",
       "      <td>-34.594131</td>\n",
       "      <td>-58.443732</td>\n",
       "      <td>Villa Crespo</td>\n",
       "      <td>NaN</td>\n",
       "      <td>NaN</td>\n",
       "      <td>NaN</td>\n",
       "      <td>101.0</td>\n",
       "      <td>NaN</td>\n",
       "      <td>0.0</td>\n",
       "      <td>NaN</td>\n",
       "      <td>Mensual</td>\n",
       "      <td>Lote</td>\n",
       "      <td>Venta</td>\n",
       "    </tr>\n",
       "    <tr>\n",
       "      <th>18</th>\n",
       "      <td>Propiedad</td>\n",
       "      <td>2019-04-14</td>\n",
       "      <td>2019-04-29</td>\n",
       "      <td>2019-04-14</td>\n",
       "      <td>-34.604827</td>\n",
       "      <td>-58.419040</td>\n",
       "      <td>Almagro</td>\n",
       "      <td>NaN</td>\n",
       "      <td>NaN</td>\n",
       "      <td>1.0</td>\n",
       "      <td>54.0</td>\n",
       "      <td>54.0</td>\n",
       "      <td>0.0</td>\n",
       "      <td>NaN</td>\n",
       "      <td>Mensual</td>\n",
       "      <td>Oficina</td>\n",
       "      <td>Venta</td>\n",
       "    </tr>\n",
       "  </tbody>\n",
       "</table>\n",
       "</div>"
      ],
      "text/plain": [
       "      ad_type  start_date    end_date  created_on        lat        lon  \\\n",
       "1   Propiedad  2019-04-14  2019-04-16  2019-04-14 -34.631810 -58.420599   \n",
       "8   Propiedad  2019-04-14  2019-04-29  2019-04-14 -34.603375 -58.434498   \n",
       "10  Propiedad  2019-04-14  2019-04-29  2019-04-14 -34.590053 -58.436722   \n",
       "16  Propiedad  2019-04-14  2019-04-29  2019-04-14 -34.594131 -58.443732   \n",
       "18  Propiedad  2019-04-14  2019-04-29  2019-04-14 -34.604827 -58.419040   \n",
       "\n",
       "              l3  rooms  bedrooms  bathrooms  surface_total  surface_covered  \\\n",
       "1          Boedo    NaN       NaN        NaN            NaN              NaN   \n",
       "8        Almagro    NaN       NaN        NaN         1300.0              NaN   \n",
       "10       Palermo    NaN       NaN        NaN          352.0              NaN   \n",
       "16  Villa Crespo    NaN       NaN        NaN          101.0              NaN   \n",
       "18       Almagro    NaN       NaN        1.0           54.0             54.0   \n",
       "\n",
       "    price currency price_period property_type operation_type  \n",
       "1     0.0      NaN      Mensual            PH          Venta  \n",
       "8     0.0      NaN      Mensual          Lote          Venta  \n",
       "10    0.0      NaN      Mensual          Lote          Venta  \n",
       "16    0.0      NaN      Mensual          Lote          Venta  \n",
       "18    0.0      NaN      Mensual       Oficina          Venta  "
      ]
     },
     "execution_count": 39,
     "metadata": {},
     "output_type": "execute_result"
    }
   ],
   "source": [
    "datacaba = data[data[\"l2\"] == \"Capital Federal\"].copy()\n",
    "datacaba.drop([\"l1\",\"l2\",\"id\",\"title\",\"l4\",\"l5\",\"l6\"],axis=1,inplace=True)\n",
    "datacaba.head()"
   ]
  },
  {
   "cell_type": "code",
   "execution_count": 40,
   "metadata": {},
   "outputs": [
    {
     "data": {
      "text/plain": [
       "(124327, 17)"
      ]
     },
     "execution_count": 40,
     "metadata": {},
     "output_type": "execute_result"
    }
   ],
   "source": [
    "datacaba.shape"
   ]
  },
  {
   "cell_type": "code",
   "execution_count": 41,
   "metadata": {},
   "outputs": [
    {
     "data": {
      "text/plain": [
       "ad_type                0\n",
       "start_date             0\n",
       "end_date               0\n",
       "created_on             0\n",
       "lat                 5655\n",
       "lon                 5655\n",
       "l3                   676\n",
       "rooms              29808\n",
       "bedrooms           69698\n",
       "bathrooms          17792\n",
       "surface_total      11005\n",
       "surface_covered    13860\n",
       "price               2810\n",
       "currency            6080\n",
       "price_period       41494\n",
       "property_type          0\n",
       "operation_type         0\n",
       "dtype: int64"
      ]
     },
     "execution_count": 41,
     "metadata": {},
     "output_type": "execute_result"
    }
   ],
   "source": [
    "datacaba.isna().sum()"
   ]
  },
  {
   "cell_type": "code",
   "execution_count": 42,
   "metadata": {},
   "outputs": [
    {
     "data": {
      "text/plain": [
       "(118247, 17)"
      ]
     },
     "execution_count": 42,
     "metadata": {},
     "output_type": "execute_result"
    }
   ],
   "source": [
    "datacaba.dropna(subset=[\"price\",\"currency\"],inplace=True)\n",
    "datacaba.shape"
   ]
  },
  {
   "cell_type": "code",
   "execution_count": 43,
   "metadata": {},
   "outputs": [
    {
     "data": {
      "text/plain": [
       "{'ARS', 'USD'}"
      ]
     },
     "execution_count": 43,
     "metadata": {},
     "output_type": "execute_result"
    }
   ],
   "source": [
    "set(datacaba[\"currency\"])"
   ]
  },
  {
   "cell_type": "code",
   "execution_count": 44,
   "metadata": {},
   "outputs": [
    {
     "data": {
      "text/plain": [
       "USD    81601\n",
       "ARS    36646\n",
       "Name: currency, dtype: int64"
      ]
     },
     "execution_count": 44,
     "metadata": {},
     "output_type": "execute_result"
    }
   ],
   "source": [
    "datacaba[\"currency\"].value_counts()"
   ]
  },
  {
   "cell_type": "code",
   "execution_count": 45,
   "metadata": {},
   "outputs": [],
   "source": [
    "datacaba = datacaba[datacaba[\"operation_type\"] == \"Venta\"]"
   ]
  },
  {
   "cell_type": "code",
   "execution_count": 46,
   "metadata": {},
   "outputs": [
    {
     "data": {
      "text/plain": [
       "Departamento       53310\n",
       "PH                  5796\n",
       "Casa                3712\n",
       "Lote                3559\n",
       "Oficina             3239\n",
       "Local comercial     3199\n",
       "Cochera             1997\n",
       "Otro                 673\n",
       "Depósito             386\n",
       "Name: property_type, dtype: int64"
      ]
     },
     "execution_count": 46,
     "metadata": {},
     "output_type": "execute_result"
    }
   ],
   "source": [
    "datacaba[\"property_type\"].value_counts()"
   ]
  },
  {
   "cell_type": "code",
   "execution_count": 47,
   "metadata": {},
   "outputs": [],
   "source": [
    "datacaba = datacaba[datacaba[\"property_type\"].isin([\"Departamento\",\"PH\",\"Casa\"])]\n"
   ]
  },
  {
   "cell_type": "code",
   "execution_count": 48,
   "metadata": {},
   "outputs": [],
   "source": [
    "datacaba[\"created_on\"] = pd.to_datetime(datacaba[\"created_on\"])"
   ]
  },
  {
   "cell_type": "code",
   "execution_count": 49,
   "metadata": {},
   "outputs": [],
   "source": [
    "datacaba.drop([\"start_date\",\"end_date\",\"ad_type\"],axis=1,inplace=True)"
   ]
  },
  {
   "cell_type": "code",
   "execution_count": 50,
   "metadata": {},
   "outputs": [],
   "source": [
    "datacaba = datacaba[datacaba[\"currency\"] == \"USD\"].copy()"
   ]
  },
  {
   "cell_type": "code",
   "execution_count": 51,
   "metadata": {},
   "outputs": [],
   "source": [
    "datacaba.drop([\"currency\",\"created_on\"],axis=1,inplace=True)"
   ]
  },
  {
   "cell_type": "code",
   "execution_count": 53,
   "metadata": {},
   "outputs": [
    {
     "data": {
      "text/html": [
       "<div>\n",
       "<style scoped>\n",
       "    .dataframe tbody tr th:only-of-type {\n",
       "        vertical-align: middle;\n",
       "    }\n",
       "\n",
       "    .dataframe tbody tr th {\n",
       "        vertical-align: top;\n",
       "    }\n",
       "\n",
       "    .dataframe thead th {\n",
       "        text-align: right;\n",
       "    }\n",
       "</style>\n",
       "<table border=\"1\" class=\"dataframe\">\n",
       "  <thead>\n",
       "    <tr style=\"text-align: right;\">\n",
       "      <th></th>\n",
       "      <th>lat</th>\n",
       "      <th>lon</th>\n",
       "      <th>l3</th>\n",
       "      <th>rooms</th>\n",
       "      <th>bedrooms</th>\n",
       "      <th>bathrooms</th>\n",
       "      <th>surface_total</th>\n",
       "      <th>surface_covered</th>\n",
       "      <th>price</th>\n",
       "      <th>price_period</th>\n",
       "      <th>property_type</th>\n",
       "      <th>operation_type</th>\n",
       "    </tr>\n",
       "  </thead>\n",
       "  <tbody>\n",
       "    <tr>\n",
       "      <th>254</th>\n",
       "      <td>-34.652250</td>\n",
       "      <td>-58.385565</td>\n",
       "      <td>Barracas</td>\n",
       "      <td>NaN</td>\n",
       "      <td>NaN</td>\n",
       "      <td>NaN</td>\n",
       "      <td>300.0</td>\n",
       "      <td>180.0</td>\n",
       "      <td>320000.0</td>\n",
       "      <td>Mensual</td>\n",
       "      <td>PH</td>\n",
       "      <td>Venta</td>\n",
       "    </tr>\n",
       "    <tr>\n",
       "      <th>262</th>\n",
       "      <td>-34.628248</td>\n",
       "      <td>-58.406525</td>\n",
       "      <td>Boedo</td>\n",
       "      <td>6.0</td>\n",
       "      <td>NaN</td>\n",
       "      <td>2.0</td>\n",
       "      <td>178.0</td>\n",
       "      <td>240.0</td>\n",
       "      <td>500000.0</td>\n",
       "      <td>Mensual</td>\n",
       "      <td>Casa</td>\n",
       "      <td>Venta</td>\n",
       "    </tr>\n",
       "    <tr>\n",
       "      <th>270</th>\n",
       "      <td>-34.592796</td>\n",
       "      <td>-58.420930</td>\n",
       "      <td>Palermo</td>\n",
       "      <td>NaN</td>\n",
       "      <td>NaN</td>\n",
       "      <td>2.0</td>\n",
       "      <td>240.0</td>\n",
       "      <td>157.0</td>\n",
       "      <td>350000.0</td>\n",
       "      <td>Mensual</td>\n",
       "      <td>Casa</td>\n",
       "      <td>Venta</td>\n",
       "    </tr>\n",
       "    <tr>\n",
       "      <th>273</th>\n",
       "      <td>-34.565632</td>\n",
       "      <td>-58.465134</td>\n",
       "      <td>Belgrano</td>\n",
       "      <td>3.0</td>\n",
       "      <td>NaN</td>\n",
       "      <td>4.0</td>\n",
       "      <td>157.0</td>\n",
       "      <td>NaN</td>\n",
       "      <td>470000.0</td>\n",
       "      <td>NaN</td>\n",
       "      <td>Casa</td>\n",
       "      <td>Venta</td>\n",
       "    </tr>\n",
       "    <tr>\n",
       "      <th>275</th>\n",
       "      <td>-34.622177</td>\n",
       "      <td>-58.522724</td>\n",
       "      <td>Versalles</td>\n",
       "      <td>NaN</td>\n",
       "      <td>NaN</td>\n",
       "      <td>1.0</td>\n",
       "      <td>140.0</td>\n",
       "      <td>110.0</td>\n",
       "      <td>155000.0</td>\n",
       "      <td>NaN</td>\n",
       "      <td>Casa</td>\n",
       "      <td>Venta</td>\n",
       "    </tr>\n",
       "    <tr>\n",
       "      <th>...</th>\n",
       "      <td>...</td>\n",
       "      <td>...</td>\n",
       "      <td>...</td>\n",
       "      <td>...</td>\n",
       "      <td>...</td>\n",
       "      <td>...</td>\n",
       "      <td>...</td>\n",
       "      <td>...</td>\n",
       "      <td>...</td>\n",
       "      <td>...</td>\n",
       "      <td>...</td>\n",
       "      <td>...</td>\n",
       "    </tr>\n",
       "    <tr>\n",
       "      <th>388879</th>\n",
       "      <td>-34.611768</td>\n",
       "      <td>-58.384733</td>\n",
       "      <td>Monserrat</td>\n",
       "      <td>6.0</td>\n",
       "      <td>5.0</td>\n",
       "      <td>2.0</td>\n",
       "      <td>288.0</td>\n",
       "      <td>288.0</td>\n",
       "      <td>285000.0</td>\n",
       "      <td>Mensual</td>\n",
       "      <td>Departamento</td>\n",
       "      <td>Venta</td>\n",
       "    </tr>\n",
       "    <tr>\n",
       "      <th>388880</th>\n",
       "      <td>-34.594032</td>\n",
       "      <td>-58.407581</td>\n",
       "      <td>Barrio Norte</td>\n",
       "      <td>6.0</td>\n",
       "      <td>5.0</td>\n",
       "      <td>4.0</td>\n",
       "      <td>206.0</td>\n",
       "      <td>186.0</td>\n",
       "      <td>620000.0</td>\n",
       "      <td>NaN</td>\n",
       "      <td>Departamento</td>\n",
       "      <td>Venta</td>\n",
       "    </tr>\n",
       "    <tr>\n",
       "      <th>388881</th>\n",
       "      <td>-34.597925</td>\n",
       "      <td>-58.508144</td>\n",
       "      <td>Villa Devoto</td>\n",
       "      <td>6.0</td>\n",
       "      <td>5.0</td>\n",
       "      <td>3.0</td>\n",
       "      <td>284.0</td>\n",
       "      <td>182.0</td>\n",
       "      <td>850000.0</td>\n",
       "      <td>Mensual</td>\n",
       "      <td>Departamento</td>\n",
       "      <td>Venta</td>\n",
       "    </tr>\n",
       "    <tr>\n",
       "      <th>388887</th>\n",
       "      <td>-34.598829</td>\n",
       "      <td>-58.403327</td>\n",
       "      <td>Barrio Norte</td>\n",
       "      <td>8.0</td>\n",
       "      <td>7.0</td>\n",
       "      <td>5.0</td>\n",
       "      <td>601.0</td>\n",
       "      <td>400.0</td>\n",
       "      <td>650000.0</td>\n",
       "      <td>Mensual</td>\n",
       "      <td>PH</td>\n",
       "      <td>Venta</td>\n",
       "    </tr>\n",
       "    <tr>\n",
       "      <th>388889</th>\n",
       "      <td>-34.612178</td>\n",
       "      <td>-58.400145</td>\n",
       "      <td>Balvanera</td>\n",
       "      <td>9.0</td>\n",
       "      <td>9.0</td>\n",
       "      <td>3.0</td>\n",
       "      <td>187.0</td>\n",
       "      <td>152.0</td>\n",
       "      <td>140000.0</td>\n",
       "      <td>NaN</td>\n",
       "      <td>Departamento</td>\n",
       "      <td>Venta</td>\n",
       "    </tr>\n",
       "  </tbody>\n",
       "</table>\n",
       "<p>61905 rows × 12 columns</p>\n",
       "</div>"
      ],
      "text/plain": [
       "              lat        lon            l3  rooms  bedrooms  bathrooms  \\\n",
       "254    -34.652250 -58.385565      Barracas    NaN       NaN        NaN   \n",
       "262    -34.628248 -58.406525         Boedo    6.0       NaN        2.0   \n",
       "270    -34.592796 -58.420930       Palermo    NaN       NaN        2.0   \n",
       "273    -34.565632 -58.465134      Belgrano    3.0       NaN        4.0   \n",
       "275    -34.622177 -58.522724     Versalles    NaN       NaN        1.0   \n",
       "...           ...        ...           ...    ...       ...        ...   \n",
       "388879 -34.611768 -58.384733     Monserrat    6.0       5.0        2.0   \n",
       "388880 -34.594032 -58.407581  Barrio Norte    6.0       5.0        4.0   \n",
       "388881 -34.597925 -58.508144  Villa Devoto    6.0       5.0        3.0   \n",
       "388887 -34.598829 -58.403327  Barrio Norte    8.0       7.0        5.0   \n",
       "388889 -34.612178 -58.400145     Balvanera    9.0       9.0        3.0   \n",
       "\n",
       "        surface_total  surface_covered     price price_period property_type  \\\n",
       "254             300.0            180.0  320000.0      Mensual            PH   \n",
       "262             178.0            240.0  500000.0      Mensual          Casa   \n",
       "270             240.0            157.0  350000.0      Mensual          Casa   \n",
       "273             157.0              NaN  470000.0          NaN          Casa   \n",
       "275             140.0            110.0  155000.0          NaN          Casa   \n",
       "...               ...              ...       ...          ...           ...   \n",
       "388879          288.0            288.0  285000.0      Mensual  Departamento   \n",
       "388880          206.0            186.0  620000.0          NaN  Departamento   \n",
       "388881          284.0            182.0  850000.0      Mensual  Departamento   \n",
       "388887          601.0            400.0  650000.0      Mensual            PH   \n",
       "388889          187.0            152.0  140000.0          NaN  Departamento   \n",
       "\n",
       "       operation_type  \n",
       "254             Venta  \n",
       "262             Venta  \n",
       "270             Venta  \n",
       "273             Venta  \n",
       "275             Venta  \n",
       "...               ...  \n",
       "388879          Venta  \n",
       "388880          Venta  \n",
       "388881          Venta  \n",
       "388887          Venta  \n",
       "388889          Venta  \n",
       "\n",
       "[61905 rows x 12 columns]"
      ]
     },
     "execution_count": 53,
     "metadata": {},
     "output_type": "execute_result"
    }
   ],
   "source": [
    "datacaba"
   ]
  },
  {
   "cell_type": "code",
   "execution_count": 54,
   "metadata": {},
   "outputs": [],
   "source": [
    "datacaba.drop([\"operation_type\",\"price_period\"],axis=1,inplace=True)"
   ]
  },
  {
   "cell_type": "code",
   "execution_count": 58,
   "metadata": {},
   "outputs": [],
   "source": [
    "datacaba[\"barrio\"] = datacaba[\"l3\"]\n",
    "del datacaba[\"l3\"]"
   ]
  },
  {
   "cell_type": "code",
   "execution_count": 63,
   "metadata": {},
   "outputs": [],
   "source": [
    "datacaba.dropna(subset=[\"lat\",\"lon\",\"barrio\"],inplace=True)"
   ]
  },
  {
   "cell_type": "code",
   "execution_count": 64,
   "metadata": {},
   "outputs": [
    {
     "data": {
      "text/plain": [
       "(59017, 10)"
      ]
     },
     "execution_count": 64,
     "metadata": {},
     "output_type": "execute_result"
    }
   ],
   "source": [
    "datacaba.shape"
   ]
  },
  {
   "cell_type": "code",
   "execution_count": 73,
   "metadata": {},
   "outputs": [],
   "source": [
    "datacaba = datacaba[datacaba[\"price\"] >= 40000]"
   ]
  },
  {
   "cell_type": "code",
   "execution_count": 81,
   "metadata": {},
   "outputs": [],
   "source": [
    "datacaba = datacaba[datacaba[\"price\"] <= 2_000_000]"
   ]
  },
  {
   "cell_type": "code",
   "execution_count": 83,
   "metadata": {},
   "outputs": [
    {
     "data": {
      "text/plain": [
       "(58571, 10)"
      ]
     },
     "execution_count": 83,
     "metadata": {},
     "output_type": "execute_result"
    }
   ],
   "source": [
    "datacaba.shape"
   ]
  },
  {
   "cell_type": "code",
   "execution_count": 84,
   "metadata": {},
   "outputs": [],
   "source": [
    "datacaba.to_csv(\"CABAprop.csv\",index=False)"
   ]
  },
  {
   "cell_type": "code",
   "execution_count": null,
   "metadata": {},
   "outputs": [],
   "source": []
  }
 ],
 "metadata": {
  "kernelspec": {
   "display_name": "Python 3",
   "language": "python",
   "name": "python3"
  },
  "language_info": {
   "codemirror_mode": {
    "name": "ipython",
    "version": 3
   },
   "file_extension": ".py",
   "mimetype": "text/x-python",
   "name": "python",
   "nbconvert_exporter": "python",
   "pygments_lexer": "ipython3",
   "version": "3.10.6"
  },
  "orig_nbformat": 4,
  "vscode": {
   "interpreter": {
    "hash": "916dbcbb3f70747c44a77c7bcd40155683ae19c65e1c03b4aa3499c5328201f1"
   }
  }
 },
 "nbformat": 4,
 "nbformat_minor": 2
}
